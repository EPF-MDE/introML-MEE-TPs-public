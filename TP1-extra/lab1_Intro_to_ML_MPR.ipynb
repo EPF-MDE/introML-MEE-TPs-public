{
  "cells": [
    {
      "cell_type": "markdown",
      "metadata": {},
      "source": [
        "<img style=\"float: left; padding-right: 10px; width: 45px\" src=\"https://upload.wikimedia.org/wikipedia/fr/b/b1/Logo_EPF.png?raw=true\"> \n",
        "\n",
        "**Introduction to Machine Learning - P2025: Energy & Environment**\n",
        "# Lab / TP 1 EXTRA:  Multiple and Polynomial Regression\n",
        "*Credits*: Adapted from MDE's \"Intro to ML\" course by Y. Idrissi and I. Chafai.\n",
        "\n",
        "**First name:**\n",
        "\n",
        "**Last name:**\n",
        "\n",
        "**Group:**\n",
        "\n",
        "\n",
        "---"
      ]
    },
    {
      "cell_type": "markdown",
      "metadata": {},
      "source": [
        "# Abstract"
      ]
    },
    {
      "cell_type": "markdown",
      "metadata": {
        "id": "HFdFvXRvRNyI"
      },
      "source": [
        "`statsmodels` is focused on the _inference_ task: guess good values for the betas and discuss how certain you are in those answers. \n",
        "\n",
        "`sklearn` is focused on the _prediction_ task: given \\[new\\] data, guess what the response value is. As a result, statsmodels has lots of tools to discuss confidence, but isn't great at dealing with test sets. Sklearn is great at test sets and validations, but can't really discuss uncertainty in the parameters or predictions. In short:\n",
        "\n",
        "  - sklearn is about putting a line through it and predicting new values using that line. If the line gives good predictions on the test set, who cares about anything else?\n",
        "  - statsmodels assumes more about how the data were generated, and (if the assumptions are correct) can tell you about uncertainty in the results\n"
      ]
    },
    {
      "cell_type": "markdown",
      "metadata": {
        "id": "PjvAMy90RNyH"
      },
      "source": [
        "# Learning Goals\n",
        "After this lab, you should be able to\n",
        " - Implement arbitrary multiple regression models in both sklearn and Statsmodels\n",
        " - Interpret the coefficent estimates produced by each model, including transformed and dummy variables"
      ]
    },
    {
      "cell_type": "markdown",
      "metadata": {
        "id": "5qgaf8NTRNyH"
      },
      "source": [
        "# Table of Contents\n",
        "* Glossary\n",
        "* Polynomial Regression, and Revisiting the Cab Data\n",
        "* Multiple regression and exploring the Football data \n",
        "* A nice trick for forward-backwards"
      ]
    },
    {
      "cell_type": "code",
      "execution_count": 21,
      "metadata": {
        "colab": {
          "base_uri": "https://localhost:8080/"
        },
        "id": "MhiIq0HURNyI",
        "outputId": "050822f2-df85-4871-d096-4b100e8858ac"
      },
      "outputs": [],
      "source": [
        "#importing all the useful libraries as usual\n",
        "import numpy as np\n",
        "import pandas as pd\n",
        "import matplotlib.pyplot as plt\n",
        "\n",
        "import statsmodels.api as sm\n",
        "from statsmodels.api import OLS\n",
        "\n",
        "from sklearn import preprocessing\n",
        "from sklearn.preprocessing import PolynomialFeatures\n",
        "from sklearn.metrics import r2_score\n",
        "from sklearn.model_selection import train_test_split\n",
        "\n",
        "from pandas.plotting import scatter_matrix\n",
        "\n",
        "import seaborn as sns\n",
        "\n",
        "\n",
        "%matplotlib inline"
      ]
    },
    {
      "cell_type": "markdown",
      "metadata": {
        "id": "mQ3KUwirRNyJ"
      },
      "source": [
        "# Glossary\n",
        "\n",
        "\n",
        "- **R-squared**: An interpretable summary of how well the model did. 1 is perfect, 0 is a trivial baseline model, negative is worse than the trivial model\n",
        "- **F-statistic**: A value testing whether we're likely to see these results (or even stronger ones) if none of the predictors actually mattered.\n",
        "- **Prob (F-statistic)**: The probability that we'd see these results (or even stronger ones) if none of the predictors actually mattered. If this probability is small then either A) some combination of predictors actually matters or B) something rather unlikely has happened\n",
        "- **coef**: The estimate of each beta. This has several sub-components:\n",
        "  - **std err**: The amount we'd expect this value to wiggle if we re-did the data collection and re-ran our model. More data tends to make this wiggle smaller, but sometimes the collected data just isn't enough to pin down a particular value.\n",
        "  - **t and P>|t|**: similar to the F-statistic, these measure the probability of seeing coefficients this big (or even bigger) if the given variable didn't actually matter. Small probability doesn't necessarily mean the value matters\n",
        "  - **\\[0.025 0.975\\]**: Endpoints of the 95% confidence interval. This is a interval drawn in a clever way and which gives an idea of where the true beta value might plausibly live. (If you want to understand why \"there's a 95% chance the true beta is in the interval\" is _wrong_, [check this explanation.](https://datatab.fr/tutorial/confidence-interval) )\n",
        "  "
      ]
    },
    {
      "cell_type": "markdown",
      "metadata": {
        "id": "SFiXcDLGRNyJ"
      },
      "source": [
        "# Part 1: Polynomial Regression, and Revisiting the Cab Data\n",
        "\n",
        "In this part we'll be working on cab data. The next cell loads the data as a `pd.DataFrame` and shows a few rows from it."
      ]
    },
    {
      "cell_type": "code",
      "execution_count": 22,
      "metadata": {
        "colab": {
          "base_uri": "https://localhost:8080/",
          "height": 204
        },
        "id": "mzjYPLcMRNyJ",
        "outputId": "eab9e4e1-524e-488c-99ef-5a1cf3212f87"
      },
      "outputs": [
        {
          "data": {
            "text/html": [
              "<div>\n",
              "<style scoped>\n",
              "    .dataframe tbody tr th:only-of-type {\n",
              "        vertical-align: middle;\n",
              "    }\n",
              "\n",
              "    .dataframe tbody tr th {\n",
              "        vertical-align: top;\n",
              "    }\n",
              "\n",
              "    .dataframe thead th {\n",
              "        text-align: right;\n",
              "    }\n",
              "</style>\n",
              "<table border=\"1\" class=\"dataframe\">\n",
              "  <thead>\n",
              "    <tr style=\"text-align: right;\">\n",
              "      <th></th>\n",
              "      <th>TimeMin</th>\n",
              "      <th>PickupCount</th>\n",
              "    </tr>\n",
              "  </thead>\n",
              "  <tbody>\n",
              "    <tr>\n",
              "      <th>0</th>\n",
              "      <td>860.0</td>\n",
              "      <td>33.0</td>\n",
              "    </tr>\n",
              "    <tr>\n",
              "      <th>1</th>\n",
              "      <td>17.0</td>\n",
              "      <td>75.0</td>\n",
              "    </tr>\n",
              "    <tr>\n",
              "      <th>2</th>\n",
              "      <td>486.0</td>\n",
              "      <td>13.0</td>\n",
              "    </tr>\n",
              "    <tr>\n",
              "      <th>3</th>\n",
              "      <td>300.0</td>\n",
              "      <td>5.0</td>\n",
              "    </tr>\n",
              "    <tr>\n",
              "      <th>4</th>\n",
              "      <td>385.0</td>\n",
              "      <td>10.0</td>\n",
              "    </tr>\n",
              "  </tbody>\n",
              "</table>\n",
              "</div>"
            ],
            "text/plain": [
              "   TimeMin  PickupCount\n",
              "0    860.0         33.0\n",
              "1     17.0         75.0\n",
              "2    486.0         13.0\n",
              "3    300.0          5.0\n",
              "4    385.0         10.0"
            ]
          },
          "execution_count": 22,
          "metadata": {},
          "output_type": "execute_result"
        }
      ],
      "source": [
        "# read in the data\n",
        "cab_df = pd.read_csv(\"cab_data.txt\")\n",
        "cab_df.head()"
      ]
    },
    {
      "cell_type": "code",
      "execution_count": 23,
      "metadata": {
        "colab": {
          "base_uri": "https://localhost:8080/"
        },
        "id": "ZFktlwFmRNyK",
        "outputId": "7f627094-2f29-4276-8567-ba7697df488e"
      },
      "outputs": [
        {
          "data": {
            "text/plain": [
              "(1250, 2)"
            ]
          },
          "execution_count": 23,
          "metadata": {},
          "output_type": "execute_result"
        }
      ],
      "source": [
        "cab_df.shape"
      ]
    },
    {
      "cell_type": "markdown",
      "metadata": {},
      "source": [
        "Remember it is important to split a test set for model evaluation later. The next cell does that:"
      ]
    },
    {
      "cell_type": "code",
      "execution_count": 24,
      "metadata": {},
      "outputs": [],
      "source": [
        "train_data, test_data = train_test_split(cab_df, test_size=.2, random_state=42)"
      ]
    },
    {
      "cell_type": "markdown",
      "metadata": {},
      "source": [
        "The next cell prepares the arrays for `sklearn`."
      ]
    },
    {
      "cell_type": "code",
      "execution_count": 25,
      "metadata": {
        "id": "BvM-Yvf3RNyL"
      },
      "outputs": [],
      "source": [
        "# do some data cleaning\n",
        "X_train = train_data['TimeMin'].values.reshape(-1,1)/60\n",
        "y_train = train_data['PickupCount'].values\n",
        "\n",
        "X_test = test_data['TimeMin'].values.reshape(-1,1)/60\n",
        "y_test = test_data['PickupCount'].values"
      ]
    },
    {
      "cell_type": "markdown",
      "metadata": {},
      "source": [
        "Now let's create a linear model and fit it:"
      ]
    },
    {
      "cell_type": "code",
      "execution_count": 26,
      "metadata": {
        "colab": {
          "base_uri": "https://localhost:8080/",
          "height": 279
        },
        "id": "zwNcxsmERNyL",
        "outputId": "e6cfd6f7-fe93-42fe-cdab-e0497d702a9f"
      },
      "outputs": [],
      "source": [
        "from sklearn.linear_model import LinearRegression\n",
        "fitted_cab_model0 = LinearRegression().fit(X_train, y_train)\n"
      ]
    },
    {
      "cell_type": "markdown",
      "metadata": {},
      "source": [
        "Here goes a plotting function to plot our datapoints together wiht the fitted regression line:"
      ]
    },
    {
      "cell_type": "code",
      "execution_count": 27,
      "metadata": {},
      "outputs": [],
      "source": [
        "\n",
        "def plot_cabs(cur_model, poly_transformer=None):\n",
        "    \n",
        "    # build the x values for the prediction line\n",
        "    x_vals = np.arange(0,24,.1).reshape(-1,1)\n",
        "    \n",
        "    # if needed, build the design matrix\n",
        "    if poly_transformer:\n",
        "        design_mat = poly_transformer.fit_transform(x_vals)\n",
        "        design_mat_test = poly_transformer.fit_transform(X_test)\n",
        "    else:\n",
        "        design_mat = x_vals\n",
        "        design_mat_test = X_test\n",
        "    \n",
        "    # make the prediction at each x value\n",
        "    prediction = cur_model.predict(design_mat)\n",
        "\n",
        "    # compute residuals for datapoints\n",
        "    residual = y_test - cur_model.predict(design_mat_test)\n",
        "    \n",
        "    # plot the prediction line, and the test data\n",
        "    fig, (ax1, ax2) = plt.subplots(1,2,figsize=(10,5), sharex=True)\n",
        "    ax1.plot(x_vals,prediction, '.-', color='k', label=\"Prediction\")\n",
        "    ax1.scatter(X_test, y_test, label=\"Test Data\")\n",
        "    # same, but plotting residuals instead\n",
        "    ax2.scatter(X_test, residual, label=\"Residuals (test data)\")\n",
        "    ax2.axhline(0, color='k')\n",
        "\n",
        "    # label your plots\n",
        "    ax1.set_title('Data points and regression curve')\n",
        "    ax1.set_ylabel(\"Number of Taxi Pickups\")\n",
        "    ax1.set_xlabel(\"Time of Day (Hours Past Midnight)\")\n",
        "    ax1.legend()\n",
        "\n",
        "    ax2.set_title(\"Residuals for the Cubic Model\")\n",
        "    ax2.set_ylabel(\"Residual Number of Taxi Pickups\")\n",
        "    ax2.set_xlabel(\"Time of Day (Hours Past Midnight)\")\n",
        "    ax2.legend()\n",
        "\n",
        "    fig.show()"
      ]
    },
    {
      "cell_type": "markdown",
      "metadata": {},
      "source": [
        "Calling the function on the data gives us a plot:"
      ]
    },
    {
      "cell_type": "code",
      "execution_count": 28,
      "metadata": {},
      "outputs": [
        {
          "name": "stderr",
          "output_type": "stream",
          "text": [
            "C:\\Users\\tdrumond\\AppData\\Local\\Temp\\ipykernel_12888\\1318629703.py:39: UserWarning: Matplotlib is currently using module://matplotlib_inline.backend_inline, which is a non-GUI backend, so cannot show the figure.\n",
            "  fig.show()\n"
          ]
        },
        {
          "data": {
            "image/png": "[encoded data removed]",
            "text/plain": [
              "<Figure size 1000x500 with 2 Axes>"
            ]
          },
          "metadata": {},
          "output_type": "display_data"
        }
      ],
      "source": [
        "plot_cabs(fitted_cab_model0)"
      ]
    },
    {
      "cell_type": "markdown",
      "metadata": {},
      "source": [
        "R2 score on the training set shows us that the model is not capable of explaining the data very well. \n",
        "It is not a surprise that score on the test set is also quite low."
      ]
    },
    {
      "cell_type": "code",
      "execution_count": 29,
      "metadata": {
        "colab": {
          "base_uri": "https://localhost:8080/"
        },
        "id": "LPU5OCqaRNyM",
        "outputId": "f9b08424-2d50-4d56-cac3-caf45267f255"
      },
      "outputs": [
        {
          "data": {
            "text/plain": [
              "0.2430260353189334"
            ]
          },
          "execution_count": 29,
          "metadata": {},
          "output_type": "execute_result"
        }
      ],
      "source": [
        "fitted_cab_model0.score(X_train, y_train)"
      ]
    },
    {
      "cell_type": "code",
      "execution_count": 30,
      "metadata": {},
      "outputs": [
        {
          "data": {
            "text/plain": [
              "0.240661535615741"
            ]
          },
          "execution_count": 30,
          "metadata": {},
          "output_type": "execute_result"
        }
      ],
      "source": [
        "fitted_cab_model0.score(X_test, y_test)"
      ]
    },
    {
      "cell_type": "markdown",
      "metadata": {
        "id": "DbCVbnIwRNyM"
      },
      "source": [
        "We can see that there's still a lot of variation in cab pickups that's not being caught by a linear fit. And the linear fit is predicting massively more pickups at 11:59pm than at 12:00am. However, we can add columns to our design matrix for $TimeMin^2$ and $TimeMin^3$ and so on, allowing a wigglier polynomial that will better fit the data.\n",
        "\n",
        "We'll be using sklearn's `PolynomialFeatures` to take some of the tedium out of building the new design matrix. In fact, if all we want is a formula like $y \\approx \\beta_0 + \\beta_1 x + \\beta_2 x^2 + ...$ it will directly return the new design matrix."
      ]
    },
    {
      "cell_type": "code",
      "execution_count": 31,
      "metadata": {},
      "outputs": [
        {
          "data": {
            "text/plain": [
              "array([[6.73333333e+00, 4.53377778e+01, 3.05274370e+02],\n",
              "       [2.18333333e+00, 4.76694444e+00, 1.04078287e+01],\n",
              "       [1.41666667e+00, 2.00694444e+00, 2.84317130e+00],\n",
              "       ...,\n",
              "       [1.96666667e+01, 3.86777778e+02, 7.60662963e+03],\n",
              "       [1.17333333e+01, 1.37671111e+02, 1.61534104e+03],\n",
              "       [1.42000000e+01, 2.01640000e+02, 2.86328800e+03]])"
            ]
          },
          "execution_count": 31,
          "metadata": {},
          "output_type": "execute_result"
        }
      ],
      "source": [
        "transformer_3 = PolynomialFeatures(3, include_bias=False)\n",
        "new_features = transformer_3.fit_transform(X_train)\n",
        "new_features"
      ]
    },
    {
      "cell_type": "markdown",
      "metadata": {},
      "source": [
        "A few notes on `PolynomialFeatures`:\n",
        "\n",
        "- The interface is a bit strange. `PolynomialFeatures` is a 'transformer' in sklearn. We'll be using several transformers that learn a transformation on the training data and then apply that transformation on future data. On these (more typical) transformers it makes sense to have a `.fit()` and a separate `.transform()`. With PolynomialFeatures, the `.fit()` is pretty trivial, and we often fit and transform in one command, as seen above.\n",
        "- You rarely want to `include_bias` (a column of all 1s), since sklearn will add it automatically and statsmodels can just `add_constant` right before you fit to the design matrix\n",
        "- If you want polynomial features for a several different variables, you should call `.fit_transform()` separately on each column and append all the results to the design matrix (unless you also want interaction terms between the newly-created features). See `np.concatenate` for joining arrays."
      ]
    },
    {
      "cell_type": "markdown",
      "metadata": {},
      "source": [
        "Now we have the new features, let's fit a new model:"
      ]
    },
    {
      "cell_type": "code",
      "execution_count": 32,
      "metadata": {
        "colab": {
          "base_uri": "https://localhost:8080/",
          "height": 279
        },
        "id": "hThB2WmIRNyP",
        "outputId": "9a3d9aba-8410-4d04-fcad-87b1690d7bad"
      },
      "outputs": [
        {
          "name": "stderr",
          "output_type": "stream",
          "text": [
            "C:\\Users\\tdrumond\\AppData\\Local\\Temp\\ipykernel_12888\\1318629703.py:39: UserWarning: Matplotlib is currently using module://matplotlib_inline.backend_inline, which is a non-GUI backend, so cannot show the figure.\n",
            "  fig.show()\n"
          ]
        },
        {
          "data": {
            "image/png": "[encoded data removed]",
            "text/plain": [
              "<Figure size 1000x500 with 2 Axes>"
            ]
          },
          "metadata": {},
          "output_type": "display_data"
        }
      ],
      "source": [
        "fitted_cab_model3 = LinearRegression().fit(new_features, y_train)\n",
        "plot_cabs(fitted_cab_model3, transformer_3)"
      ]
    },
    {
      "cell_type": "markdown",
      "metadata": {
        "id": "Oh4ezFWERNyP"
      },
      "source": [
        "\n",
        "<div class=\"alert alert-info\">\n",
        "<div class=\"exercise\"><b>\n",
        "\n",
        "## Exercise\n",
        "\n",
        "</b></div>\n",
        "\n",
        "**Questions**:\n",
        "1. Calculate the polynomial model's $R^2$ performance on the test set. \n",
        "2. Does the polynomial model improve on the purely linear model?\n",
        "3. Compare the residual plot for the polynomial model to that of the linear model. On which hours did the polynomial model help the most with reducing error?\n",
        "\n",
        "</div>"
      ]
    },
    {
      "cell_type": "markdown",
      "metadata": {
        "id": "_vNpP0SrRNyP"
      },
      "source": [
        "*your answer here*"
      ]
    },
    {
      "cell_type": "markdown",
      "metadata": {
        "id": "y0RX7lu_RNyQ"
      },
      "source": [
        "#### Other features\n",
        "Polynomial features are not the only constucted features that help fit the data. Because these data have a 24 hour cycle, we may want to build features that follow such a cycle. For example, $sin(24\\frac{x}{2\\pi})$, $sin(12\\frac{x}{2\\pi})$, $sin(8\\frac{x}{2\\pi})$. Other feature transformations are appropriate to other types of data. For instance certain feature transformations have been developed for geographical data."
      ]
    },
    {
      "cell_type": "markdown",
      "metadata": {
        "id": "_diRmsi_RNyR"
      },
      "source": [
        "<hr style=\"height:3px\">\n",
        "\n",
        "# Part 2: Multiple regression and exploring the Football data\n",
        "Let's move on to a truly interesting dataset. The data imported below were scraped by [Shubham Maurya](https://www.kaggle.com/mauryashubham/linear-regression-to-predict-market-value/data) and record various facts about players in the English Premier League. Our goal will be to fit models that predict the players' market value (what the player could earn when hired by a new team), as estimated by transfermrkt.com.\n",
        "\n",
        "`name`: Name of the player  \n",
        "`club`: Club of the player  \n",
        "`age` : Age of the player  \n",
        "`position` : The usual position on the pitch  \n",
        "`position_cat` :  1 for attackers, 2 for midfielders, 3 for defenders, 4 for goalkeepers  \n",
        "`market_value` : As on transfermrkt.com on July 20th, 2017  \n",
        "`page_views` : Average daily Wikipedia page views from September 1, 2016 to May 1, 2017  \n",
        "`fpl_value` : Value in Fantasy Premier League as on July 20th, 2017  \n",
        "`fpl_sel` : % of FPL players who have selected that player in their team  \n",
        "`fpl_points` : FPL points accumulated over the previous season  \n",
        "`region`: 1 for England, 2 for EU, 3 for Americas, 4 for Rest of World  \n",
        "`nationality`: Player's nationality  \n",
        "`new_foreign`: Whether a new signing from a different league, for 2017/18 (till 20th July)  \n",
        "`age_cat`: a categorical version of the Age feature  \n",
        "`club_id`: a numerical version of the Club feature  \n",
        "`big_club`: Whether one of the Top 6 clubs  \n",
        "`new_signing`: Whether a new signing for 2017/18 (till 20th July)  \n",
        "\n",
        "As always, we first import, verify, split, and explore the data.\n"
      ]
    },
    {
      "cell_type": "markdown",
      "metadata": {},
      "source": [
        "\n",
        "## Part 2.1: Import and verification and grouping"
      ]
    },
    {
      "cell_type": "markdown",
      "metadata": {},
      "source": [
        "This cell loads the data and prints:\n",
        "- the data type of each column\n",
        "- the first few dataframe rows"
      ]
    },
    {
      "cell_type": "code",
      "execution_count": 35,
      "metadata": {
        "colab": {
          "base_uri": "https://localhost:8080/",
          "height": 615
        },
        "id": "ey_JjXJjRNyR",
        "outputId": "7b2f870f-c8b7-47b0-9f32-f65472cd48dc",
        "scrolled": false
      },
      "outputs": [
        {
          "name": "stdout",
          "output_type": "stream",
          "text": [
            "name             object\n",
            "club             object\n",
            "age               int64\n",
            "position         object\n",
            "position_cat      int64\n",
            "market_value    float64\n",
            "page_views        int64\n",
            "fpl_value       float64\n",
            "fpl_sel          object\n",
            "fpl_points        int64\n",
            "region          float64\n",
            "nationality      object\n",
            "new_foreign       int64\n",
            "age_cat           int64\n",
            "club_id           int64\n",
            "big_club          int64\n",
            "new_signing       int64\n",
            "dtype: object\n"
          ]
        },
        {
          "data": {
            "text/html": [
              "<div>\n",
              "<style scoped>\n",
              "    .dataframe tbody tr th:only-of-type {\n",
              "        vertical-align: middle;\n",
              "    }\n",
              "\n",
              "    .dataframe tbody tr th {\n",
              "        vertical-align: top;\n",
              "    }\n",
              "\n",
              "    .dataframe thead th {\n",
              "        text-align: right;\n",
              "    }\n",
              "</style>\n",
              "<table border=\"1\" class=\"dataframe\">\n",
              "  <thead>\n",
              "    <tr style=\"text-align: right;\">\n",
              "      <th></th>\n",
              "      <th>name</th>\n",
              "      <th>club</th>\n",
              "      <th>age</th>\n",
              "      <th>position</th>\n",
              "      <th>position_cat</th>\n",
              "      <th>market_value</th>\n",
              "      <th>page_views</th>\n",
              "      <th>fpl_value</th>\n",
              "      <th>fpl_sel</th>\n",
              "      <th>fpl_points</th>\n",
              "      <th>region</th>\n",
              "      <th>nationality</th>\n",
              "      <th>new_foreign</th>\n",
              "      <th>age_cat</th>\n",
              "      <th>club_id</th>\n",
              "      <th>big_club</th>\n",
              "      <th>new_signing</th>\n",
              "    </tr>\n",
              "  </thead>\n",
              "  <tbody>\n",
              "    <tr>\n",
              "      <th>0</th>\n",
              "      <td>Alexis Sanchez</td>\n",
              "      <td>Arsenal</td>\n",
              "      <td>28</td>\n",
              "      <td>LW</td>\n",
              "      <td>1</td>\n",
              "      <td>65.0</td>\n",
              "      <td>4329</td>\n",
              "      <td>12.0</td>\n",
              "      <td>17.10%</td>\n",
              "      <td>264</td>\n",
              "      <td>3.0</td>\n",
              "      <td>Chile</td>\n",
              "      <td>0</td>\n",
              "      <td>4</td>\n",
              "      <td>1</td>\n",
              "      <td>1</td>\n",
              "      <td>0</td>\n",
              "    </tr>\n",
              "    <tr>\n",
              "      <th>1</th>\n",
              "      <td>Mesut Ozil</td>\n",
              "      <td>Arsenal</td>\n",
              "      <td>28</td>\n",
              "      <td>AM</td>\n",
              "      <td>1</td>\n",
              "      <td>50.0</td>\n",
              "      <td>4395</td>\n",
              "      <td>9.5</td>\n",
              "      <td>5.60%</td>\n",
              "      <td>167</td>\n",
              "      <td>2.0</td>\n",
              "      <td>Germany</td>\n",
              "      <td>0</td>\n",
              "      <td>4</td>\n",
              "      <td>1</td>\n",
              "      <td>1</td>\n",
              "      <td>0</td>\n",
              "    </tr>\n",
              "    <tr>\n",
              "      <th>2</th>\n",
              "      <td>Petr Cech</td>\n",
              "      <td>Arsenal</td>\n",
              "      <td>35</td>\n",
              "      <td>GK</td>\n",
              "      <td>4</td>\n",
              "      <td>7.0</td>\n",
              "      <td>1529</td>\n",
              "      <td>5.5</td>\n",
              "      <td>5.90%</td>\n",
              "      <td>134</td>\n",
              "      <td>2.0</td>\n",
              "      <td>Czech Republic</td>\n",
              "      <td>0</td>\n",
              "      <td>6</td>\n",
              "      <td>1</td>\n",
              "      <td>1</td>\n",
              "      <td>0</td>\n",
              "    </tr>\n",
              "    <tr>\n",
              "      <th>3</th>\n",
              "      <td>Theo Walcott</td>\n",
              "      <td>Arsenal</td>\n",
              "      <td>28</td>\n",
              "      <td>RW</td>\n",
              "      <td>1</td>\n",
              "      <td>20.0</td>\n",
              "      <td>2393</td>\n",
              "      <td>7.5</td>\n",
              "      <td>1.50%</td>\n",
              "      <td>122</td>\n",
              "      <td>1.0</td>\n",
              "      <td>England</td>\n",
              "      <td>0</td>\n",
              "      <td>4</td>\n",
              "      <td>1</td>\n",
              "      <td>1</td>\n",
              "      <td>0</td>\n",
              "    </tr>\n",
              "    <tr>\n",
              "      <th>4</th>\n",
              "      <td>Laurent Koscielny</td>\n",
              "      <td>Arsenal</td>\n",
              "      <td>31</td>\n",
              "      <td>CB</td>\n",
              "      <td>3</td>\n",
              "      <td>22.0</td>\n",
              "      <td>912</td>\n",
              "      <td>6.0</td>\n",
              "      <td>0.70%</td>\n",
              "      <td>121</td>\n",
              "      <td>2.0</td>\n",
              "      <td>France</td>\n",
              "      <td>0</td>\n",
              "      <td>4</td>\n",
              "      <td>1</td>\n",
              "      <td>1</td>\n",
              "      <td>0</td>\n",
              "    </tr>\n",
              "  </tbody>\n",
              "</table>\n",
              "</div>"
            ],
            "text/plain": [
              "                name     club  age position  position_cat  market_value   \n",
              "0     Alexis Sanchez  Arsenal   28       LW             1          65.0  \\\n",
              "1         Mesut Ozil  Arsenal   28       AM             1          50.0   \n",
              "2          Petr Cech  Arsenal   35       GK             4           7.0   \n",
              "3       Theo Walcott  Arsenal   28       RW             1          20.0   \n",
              "4  Laurent Koscielny  Arsenal   31       CB             3          22.0   \n",
              "\n",
              "   page_views  fpl_value fpl_sel  fpl_points  region     nationality   \n",
              "0        4329       12.0  17.10%         264     3.0           Chile  \\\n",
              "1        4395        9.5   5.60%         167     2.0         Germany   \n",
              "2        1529        5.5   5.90%         134     2.0  Czech Republic   \n",
              "3        2393        7.5   1.50%         122     1.0         England   \n",
              "4         912        6.0   0.70%         121     2.0          France   \n",
              "\n",
              "   new_foreign  age_cat  club_id  big_club  new_signing  \n",
              "0            0        4        1         1            0  \n",
              "1            0        4        1         1            0  \n",
              "2            0        6        1         1            0  \n",
              "3            0        4        1         1            0  \n",
              "4            0        4        1         1            0  "
            ]
          },
          "execution_count": 35,
          "metadata": {},
          "output_type": "execute_result"
        }
      ],
      "source": [
        "league_df = pd.read_csv(\"league_data.txt\").dropna()\n",
        "print(league_df.dtypes)\n",
        "league_df.head()"
      ]
    },
    {
      "cell_type": "markdown",
      "metadata": {},
      "source": [
        "Here we check the size of the table (rows, columns):"
      ]
    },
    {
      "cell_type": "code",
      "execution_count": 36,
      "metadata": {
        "colab": {
          "base_uri": "https://localhost:8080/"
        },
        "id": "noxu_rmnRNyS",
        "outputId": "66afc498-7a20-42c4-d8b7-36dbe62fec74"
      },
      "outputs": [
        {
          "data": {
            "text/plain": [
              "(460, 17)"
            ]
          },
          "execution_count": 36,
          "metadata": {},
          "output_type": "execute_result"
        }
      ],
      "source": [
        "league_df.shape"
      ]
    },
    {
      "cell_type": "markdown",
      "metadata": {},
      "source": [
        "The pandas function `.describe()` shows some summary statistics for each columns:"
      ]
    },
    {
      "cell_type": "code",
      "execution_count": 17,
      "metadata": {
        "colab": {
          "base_uri": "https://localhost:8080/",
          "height": 297
        },
        "id": "8LrkMS3VRNyS",
        "outputId": "31d233ac-cfe9-40d6-b52d-09822b34f2c3"
      },
      "outputs": [
        {
          "data": {
            "text/html": [
              "<div>\n",
              "<style scoped>\n",
              "    .dataframe tbody tr th:only-of-type {\n",
              "        vertical-align: middle;\n",
              "    }\n",
              "\n",
              "    .dataframe tbody tr th {\n",
              "        vertical-align: top;\n",
              "    }\n",
              "\n",
              "    .dataframe thead th {\n",
              "        text-align: right;\n",
              "    }\n",
              "</style>\n",
              "<table border=\"1\" class=\"dataframe\">\n",
              "  <thead>\n",
              "    <tr style=\"text-align: right;\">\n",
              "      <th></th>\n",
              "      <th>age</th>\n",
              "      <th>position_cat</th>\n",
              "      <th>market_value</th>\n",
              "      <th>page_views</th>\n",
              "      <th>fpl_value</th>\n",
              "      <th>fpl_points</th>\n",
              "      <th>region</th>\n",
              "      <th>new_foreign</th>\n",
              "      <th>age_cat</th>\n",
              "      <th>club_id</th>\n",
              "      <th>big_club</th>\n",
              "      <th>new_signing</th>\n",
              "    </tr>\n",
              "  </thead>\n",
              "  <tbody>\n",
              "    <tr>\n",
              "      <th>count</th>\n",
              "      <td>461.000000</td>\n",
              "      <td>461.000000</td>\n",
              "      <td>461.000000</td>\n",
              "      <td>461.000000</td>\n",
              "      <td>461.000000</td>\n",
              "      <td>461.000000</td>\n",
              "      <td>460.000000</td>\n",
              "      <td>461.000000</td>\n",
              "      <td>461.000000</td>\n",
              "      <td>461.000000</td>\n",
              "      <td>461.000000</td>\n",
              "      <td>461.000000</td>\n",
              "    </tr>\n",
              "    <tr>\n",
              "      <th>mean</th>\n",
              "      <td>26.804772</td>\n",
              "      <td>2.180043</td>\n",
              "      <td>11.012039</td>\n",
              "      <td>763.776573</td>\n",
              "      <td>5.447939</td>\n",
              "      <td>57.314534</td>\n",
              "      <td>1.993478</td>\n",
              "      <td>0.034707</td>\n",
              "      <td>3.206074</td>\n",
              "      <td>10.334056</td>\n",
              "      <td>0.303688</td>\n",
              "      <td>0.145336</td>\n",
              "    </tr>\n",
              "    <tr>\n",
              "      <th>std</th>\n",
              "      <td>3.961892</td>\n",
              "      <td>1.000061</td>\n",
              "      <td>12.257403</td>\n",
              "      <td>931.805757</td>\n",
              "      <td>1.346695</td>\n",
              "      <td>53.113811</td>\n",
              "      <td>0.957689</td>\n",
              "      <td>0.183236</td>\n",
              "      <td>1.279795</td>\n",
              "      <td>5.726475</td>\n",
              "      <td>0.460349</td>\n",
              "      <td>0.352822</td>\n",
              "    </tr>\n",
              "    <tr>\n",
              "      <th>min</th>\n",
              "      <td>17.000000</td>\n",
              "      <td>1.000000</td>\n",
              "      <td>0.050000</td>\n",
              "      <td>3.000000</td>\n",
              "      <td>4.000000</td>\n",
              "      <td>0.000000</td>\n",
              "      <td>1.000000</td>\n",
              "      <td>0.000000</td>\n",
              "      <td>1.000000</td>\n",
              "      <td>1.000000</td>\n",
              "      <td>0.000000</td>\n",
              "      <td>0.000000</td>\n",
              "    </tr>\n",
              "    <tr>\n",
              "      <th>25%</th>\n",
              "      <td>24.000000</td>\n",
              "      <td>1.000000</td>\n",
              "      <td>3.000000</td>\n",
              "      <td>220.000000</td>\n",
              "      <td>4.500000</td>\n",
              "      <td>5.000000</td>\n",
              "      <td>1.000000</td>\n",
              "      <td>0.000000</td>\n",
              "      <td>2.000000</td>\n",
              "      <td>6.000000</td>\n",
              "      <td>0.000000</td>\n",
              "      <td>0.000000</td>\n",
              "    </tr>\n",
              "    <tr>\n",
              "      <th>50%</th>\n",
              "      <td>27.000000</td>\n",
              "      <td>2.000000</td>\n",
              "      <td>7.000000</td>\n",
              "      <td>460.000000</td>\n",
              "      <td>5.000000</td>\n",
              "      <td>51.000000</td>\n",
              "      <td>2.000000</td>\n",
              "      <td>0.000000</td>\n",
              "      <td>3.000000</td>\n",
              "      <td>10.000000</td>\n",
              "      <td>0.000000</td>\n",
              "      <td>0.000000</td>\n",
              "    </tr>\n",
              "    <tr>\n",
              "      <th>75%</th>\n",
              "      <td>30.000000</td>\n",
              "      <td>3.000000</td>\n",
              "      <td>15.000000</td>\n",
              "      <td>896.000000</td>\n",
              "      <td>5.500000</td>\n",
              "      <td>94.000000</td>\n",
              "      <td>2.000000</td>\n",
              "      <td>0.000000</td>\n",
              "      <td>4.000000</td>\n",
              "      <td>15.000000</td>\n",
              "      <td>1.000000</td>\n",
              "      <td>0.000000</td>\n",
              "    </tr>\n",
              "    <tr>\n",
              "      <th>max</th>\n",
              "      <td>38.000000</td>\n",
              "      <td>4.000000</td>\n",
              "      <td>75.000000</td>\n",
              "      <td>7664.000000</td>\n",
              "      <td>12.500000</td>\n",
              "      <td>264.000000</td>\n",
              "      <td>4.000000</td>\n",
              "      <td>1.000000</td>\n",
              "      <td>6.000000</td>\n",
              "      <td>20.000000</td>\n",
              "      <td>1.000000</td>\n",
              "      <td>1.000000</td>\n",
              "    </tr>\n",
              "  </tbody>\n",
              "</table>\n",
              "</div>"
            ],
            "text/plain": [
              "              age  position_cat  ...    big_club  new_signing\n",
              "count  461.000000    461.000000  ...  461.000000   461.000000\n",
              "mean    26.804772      2.180043  ...    0.303688     0.145336\n",
              "std      3.961892      1.000061  ...    0.460349     0.352822\n",
              "min     17.000000      1.000000  ...    0.000000     0.000000\n",
              "25%     24.000000      1.000000  ...    0.000000     0.000000\n",
              "50%     27.000000      2.000000  ...    0.000000     0.000000\n",
              "75%     30.000000      3.000000  ...    1.000000     0.000000\n",
              "max     38.000000      4.000000  ...    1.000000     1.000000\n",
              "\n",
              "[8 rows x 12 columns]"
            ]
          },
          "execution_count": 17,
          "metadata": {},
          "output_type": "execute_result"
        }
      ],
      "source": [
        "league_df.describe()"
      ]
    },
    {
      "cell_type": "markdown",
      "metadata": {
        "id": "_uKCjTYbRNyT"
      },
      "source": [
        "### (Stratified) train/test split\n",
        "We want to make sure that the training and test data have appropriate representation of each region; it would be bad for the training data to entirely miss a region. This is especially important because some regions are rather rare.\n",
        "<div class=\"alert alert-info\">\n",
        "<div class=\"exercise\"><b>\n",
        "\n",
        "#### 👉 Exercise\n",
        "\n",
        "</b></div>\n",
        "\n",
        "Use the `train_test_split` function to and its 'stratify' argument to split the data, keeping equal representation of each region \n",
        "\n",
        "</div>"
      ]
    },
    {
      "cell_type": "markdown",
      "metadata": {
        "id": "iEL4kGZNRNyU"
      },
      "source": [
        "*your answer here*:\n"
      ]
    },
    {
      "cell_type": "markdown",
      "metadata": {
        "id": "2pITnvhyRNyW"
      },
      "source": [
        "Now that we won't be peeking at the test set, let's explore and look for patterns! We'll introduce a number of useful pandas and numpy functions along the way. "
      ]
    },
    {
      "cell_type": "markdown",
      "metadata": {
        "id": "i2h7UNGtRNyW"
      },
      "source": [
        "### Groupby\n",
        "Pandas' `.groupby()` function is a wonderful tool for data analysis. It allows us to analyze each of several subgroups.\n",
        "\n",
        "Many times, `.groupby()` is combined with `.agg()` to get a summary statistic for each subgroup. For instance: What is the average market value, median page views, and maximum fpl for each player position?"
      ]
    },
    {
      "cell_type": "code",
      "execution_count": 20,
      "metadata": {
        "colab": {
          "base_uri": "https://localhost:8080/",
          "height": 483
        },
        "id": "1Md-xfykRNyX",
        "outputId": "4a0ca8fc-02b8-4848-d3a6-d90d312f2238",
        "scrolled": false
      },
      "outputs": [
        {
          "data": {
            "text/html": [
              "<div>\n",
              "<style scoped>\n",
              "    .dataframe tbody tr th:only-of-type {\n",
              "        vertical-align: middle;\n",
              "    }\n",
              "\n",
              "    .dataframe tbody tr th {\n",
              "        vertical-align: top;\n",
              "    }\n",
              "\n",
              "    .dataframe thead th {\n",
              "        text-align: right;\n",
              "    }\n",
              "</style>\n",
              "<table border=\"1\" class=\"dataframe\">\n",
              "  <thead>\n",
              "    <tr style=\"text-align: right;\">\n",
              "      <th></th>\n",
              "      <th>market_value</th>\n",
              "      <th>page_views</th>\n",
              "      <th>fpl_points</th>\n",
              "    </tr>\n",
              "    <tr>\n",
              "      <th>position</th>\n",
              "      <th></th>\n",
              "      <th></th>\n",
              "      <th></th>\n",
              "    </tr>\n",
              "  </thead>\n",
              "  <tbody>\n",
              "    <tr>\n",
              "      <th>AM</th>\n",
              "      <td>24.365385</td>\n",
              "      <td>1413.0</td>\n",
              "      <td>199</td>\n",
              "    </tr>\n",
              "    <tr>\n",
              "      <th>CB</th>\n",
              "      <td>8.673016</td>\n",
              "      <td>305.0</td>\n",
              "      <td>178</td>\n",
              "    </tr>\n",
              "    <tr>\n",
              "      <th>CF</th>\n",
              "      <td>14.302885</td>\n",
              "      <td>794.5</td>\n",
              "      <td>224</td>\n",
              "    </tr>\n",
              "    <tr>\n",
              "      <th>CM</th>\n",
              "      <td>11.115000</td>\n",
              "      <td>428.5</td>\n",
              "      <td>225</td>\n",
              "    </tr>\n",
              "    <tr>\n",
              "      <th>DM</th>\n",
              "      <td>13.314815</td>\n",
              "      <td>564.0</td>\n",
              "      <td>105</td>\n",
              "    </tr>\n",
              "    <tr>\n",
              "      <th>GK</th>\n",
              "      <td>7.759722</td>\n",
              "      <td>437.5</td>\n",
              "      <td>149</td>\n",
              "    </tr>\n",
              "    <tr>\n",
              "      <th>LB</th>\n",
              "      <td>7.608333</td>\n",
              "      <td>362.5</td>\n",
              "      <td>135</td>\n",
              "    </tr>\n",
              "    <tr>\n",
              "      <th>LM</th>\n",
              "      <td>3.541667</td>\n",
              "      <td>325.5</td>\n",
              "      <td>99</td>\n",
              "    </tr>\n",
              "    <tr>\n",
              "      <th>LW</th>\n",
              "      <td>13.551667</td>\n",
              "      <td>488.5</td>\n",
              "      <td>264</td>\n",
              "    </tr>\n",
              "    <tr>\n",
              "      <th>RB</th>\n",
              "      <td>6.379630</td>\n",
              "      <td>232.0</td>\n",
              "      <td>142</td>\n",
              "    </tr>\n",
              "    <tr>\n",
              "      <th>RM</th>\n",
              "      <td>7.750000</td>\n",
              "      <td>352.5</td>\n",
              "      <td>105</td>\n",
              "    </tr>\n",
              "    <tr>\n",
              "      <th>RW</th>\n",
              "      <td>12.870000</td>\n",
              "      <td>504.0</td>\n",
              "      <td>162</td>\n",
              "    </tr>\n",
              "    <tr>\n",
              "      <th>SS</th>\n",
              "      <td>14.500000</td>\n",
              "      <td>997.0</td>\n",
              "      <td>180</td>\n",
              "    </tr>\n",
              "  </tbody>\n",
              "</table>\n",
              "</div>"
            ],
            "text/plain": [
              "          market_value  page_views  fpl_points\n",
              "position                                      \n",
              "AM           24.365385      1413.0         199\n",
              "CB            8.673016       305.0         178\n",
              "CF           14.302885       794.5         224\n",
              "CM           11.115000       428.5         225\n",
              "DM           13.314815       564.0         105\n",
              "GK            7.759722       437.5         149\n",
              "LB            7.608333       362.5         135\n",
              "LM            3.541667       325.5          99\n",
              "LW           13.551667       488.5         264\n",
              "RB            6.379630       232.0         142\n",
              "RM            7.750000       352.5         105\n",
              "RW           12.870000       504.0         162\n",
              "SS           14.500000       997.0         180"
            ]
          },
          "execution_count": 20,
          "metadata": {},
          "output_type": "execute_result"
        }
      ],
      "source": [
        "train_data.groupby('position').agg({\n",
        "    'market_value': np.mean,\n",
        "    'page_views': np.median,\n",
        "    'fpl_points': np.max\n",
        "})"
      ]
    },
    {
      "cell_type": "markdown",
      "metadata": {},
      "source": [
        "You can see all posible values for `postion` appear in the resulting table."
      ]
    },
    {
      "cell_type": "code",
      "execution_count": 21,
      "metadata": {
        "colab": {
          "base_uri": "https://localhost:8080/"
        },
        "id": "3ibA41YiRNyX",
        "outputId": "95f0416f-4a49-40d0-850b-ed760fd9a0cc"
      },
      "outputs": [
        {
          "data": {
            "text/plain": [
              "array(['RW', 'CM', 'CF', 'LB', 'DM', 'CB', 'GK', 'LW', 'LM', 'RB', 'SS',\n",
              "       'AM', 'RM'], dtype=object)"
            ]
          },
          "execution_count": 21,
          "metadata": {},
          "output_type": "execute_result"
        }
      ],
      "source": [
        "train_data.position.unique()"
      ]
    },
    {
      "cell_type": "markdown",
      "metadata": {},
      "source": [
        "We can also group by pairs of values (two different columns):"
      ]
    },
    {
      "cell_type": "code",
      "execution_count": 22,
      "metadata": {
        "colab": {
          "base_uri": "https://localhost:8080/",
          "height": 886
        },
        "id": "fk7xGm64RNyX",
        "outputId": "722579be-3294-45ae-b6a4-5521989a5249"
      },
      "outputs": [
        {
          "data": {
            "text/html": [
              "<div>\n",
              "<style scoped>\n",
              "    .dataframe tbody tr th:only-of-type {\n",
              "        vertical-align: middle;\n",
              "    }\n",
              "\n",
              "    .dataframe tbody tr th {\n",
              "        vertical-align: top;\n",
              "    }\n",
              "\n",
              "    .dataframe thead th {\n",
              "        text-align: right;\n",
              "    }\n",
              "</style>\n",
              "<table border=\"1\" class=\"dataframe\">\n",
              "  <thead>\n",
              "    <tr style=\"text-align: right;\">\n",
              "      <th></th>\n",
              "      <th></th>\n",
              "      <th>market_value</th>\n",
              "      <th>page_views</th>\n",
              "      <th>fpl_points</th>\n",
              "    </tr>\n",
              "    <tr>\n",
              "      <th>big_club</th>\n",
              "      <th>position</th>\n",
              "      <th></th>\n",
              "      <th></th>\n",
              "      <th></th>\n",
              "    </tr>\n",
              "  </thead>\n",
              "  <tbody>\n",
              "    <tr>\n",
              "      <th rowspan=\"13\" valign=\"top\">0</th>\n",
              "      <th>AM</th>\n",
              "      <td>11.678571</td>\n",
              "      <td>554.571429</td>\n",
              "      <td>64.571429</td>\n",
              "    </tr>\n",
              "    <tr>\n",
              "      <th>CB</th>\n",
              "      <td>4.475000</td>\n",
              "      <td>310.727273</td>\n",
              "      <td>40.727273</td>\n",
              "    </tr>\n",
              "    <tr>\n",
              "      <th>CF</th>\n",
              "      <td>8.678571</td>\n",
              "      <td>862.028571</td>\n",
              "      <td>61.114286</td>\n",
              "    </tr>\n",
              "    <tr>\n",
              "      <th>CM</th>\n",
              "      <td>6.345588</td>\n",
              "      <td>339.323529</td>\n",
              "      <td>37.823529</td>\n",
              "    </tr>\n",
              "    <tr>\n",
              "      <th>DM</th>\n",
              "      <td>7.312500</td>\n",
              "      <td>461.562500</td>\n",
              "      <td>35.250000</td>\n",
              "    </tr>\n",
              "    <tr>\n",
              "      <th>GK</th>\n",
              "      <td>4.467391</td>\n",
              "      <td>390.000000</td>\n",
              "      <td>50.652174</td>\n",
              "    </tr>\n",
              "    <tr>\n",
              "      <th>LB</th>\n",
              "      <td>5.284091</td>\n",
              "      <td>260.954545</td>\n",
              "      <td>50.818182</td>\n",
              "    </tr>\n",
              "    <tr>\n",
              "      <th>LM</th>\n",
              "      <td>3.250000</td>\n",
              "      <td>321.800000</td>\n",
              "      <td>55.600000</td>\n",
              "    </tr>\n",
              "    <tr>\n",
              "      <th>LW</th>\n",
              "      <td>6.300000</td>\n",
              "      <td>434.950000</td>\n",
              "      <td>53.150000</td>\n",
              "    </tr>\n",
              "    <tr>\n",
              "      <th>RB</th>\n",
              "      <td>4.137500</td>\n",
              "      <td>235.700000</td>\n",
              "      <td>49.900000</td>\n",
              "    </tr>\n",
              "    <tr>\n",
              "      <th>RM</th>\n",
              "      <td>4.333333</td>\n",
              "      <td>280.333333</td>\n",
              "      <td>1.666667</td>\n",
              "    </tr>\n",
              "    <tr>\n",
              "      <th>RW</th>\n",
              "      <td>8.087500</td>\n",
              "      <td>550.400000</td>\n",
              "      <td>47.850000</td>\n",
              "    </tr>\n",
              "    <tr>\n",
              "      <th>SS</th>\n",
              "      <td>8.625000</td>\n",
              "      <td>2343.000000</td>\n",
              "      <td>67.750000</td>\n",
              "    </tr>\n",
              "    <tr>\n",
              "      <th rowspan=\"13\" valign=\"top\">1</th>\n",
              "      <th>AM</th>\n",
              "      <td>39.166667</td>\n",
              "      <td>2580.166667</td>\n",
              "      <td>135.000000</td>\n",
              "    </tr>\n",
              "    <tr>\n",
              "      <th>CB</th>\n",
              "      <td>18.394737</td>\n",
              "      <td>987.210526</td>\n",
              "      <td>72.736842</td>\n",
              "    </tr>\n",
              "    <tr>\n",
              "      <th>CF</th>\n",
              "      <td>25.882353</td>\n",
              "      <td>2222.764706</td>\n",
              "      <td>78.588235</td>\n",
              "    </tr>\n",
              "    <tr>\n",
              "      <th>CM</th>\n",
              "      <td>21.250000</td>\n",
              "      <td>1502.312500</td>\n",
              "      <td>75.875000</td>\n",
              "    </tr>\n",
              "    <tr>\n",
              "      <th>DM</th>\n",
              "      <td>22.045455</td>\n",
              "      <td>1380.454545</td>\n",
              "      <td>72.000000</td>\n",
              "    </tr>\n",
              "    <tr>\n",
              "      <th>GK</th>\n",
              "      <td>13.584615</td>\n",
              "      <td>859.461538</td>\n",
              "      <td>67.076923</td>\n",
              "    </tr>\n",
              "    <tr>\n",
              "      <th>LB</th>\n",
              "      <td>14.000000</td>\n",
              "      <td>612.750000</td>\n",
              "      <td>62.000000</td>\n",
              "    </tr>\n",
              "    <tr>\n",
              "      <th>LM</th>\n",
              "      <td>5.000000</td>\n",
              "      <td>936.000000</td>\n",
              "      <td>26.000000</td>\n",
              "    </tr>\n",
              "    <tr>\n",
              "      <th>LW</th>\n",
              "      <td>28.055000</td>\n",
              "      <td>2055.700000</td>\n",
              "      <td>100.000000</td>\n",
              "    </tr>\n",
              "    <tr>\n",
              "      <th>RB</th>\n",
              "      <td>12.785714</td>\n",
              "      <td>889.142857</td>\n",
              "      <td>75.571429</td>\n",
              "    </tr>\n",
              "    <tr>\n",
              "      <th>RM</th>\n",
              "      <td>18.000000</td>\n",
              "      <td>2537.000000</td>\n",
              "      <td>105.000000</td>\n",
              "    </tr>\n",
              "    <tr>\n",
              "      <th>RW</th>\n",
              "      <td>32.000000</td>\n",
              "      <td>1110.400000</td>\n",
              "      <td>60.800000</td>\n",
              "    </tr>\n",
              "    <tr>\n",
              "      <th>SS</th>\n",
              "      <td>38.000000</td>\n",
              "      <td>2196.000000</td>\n",
              "      <td>180.000000</td>\n",
              "    </tr>\n",
              "  </tbody>\n",
              "</table>\n",
              "</div>"
            ],
            "text/plain": [
              "                   market_value   page_views  fpl_points\n",
              "big_club position                                       \n",
              "0        AM           11.678571   554.571429   64.571429\n",
              "         CB            4.475000   310.727273   40.727273\n",
              "         CF            8.678571   862.028571   61.114286\n",
              "         CM            6.345588   339.323529   37.823529\n",
              "         DM            7.312500   461.562500   35.250000\n",
              "         GK            4.467391   390.000000   50.652174\n",
              "         LB            5.284091   260.954545   50.818182\n",
              "         LM            3.250000   321.800000   55.600000\n",
              "         LW            6.300000   434.950000   53.150000\n",
              "         RB            4.137500   235.700000   49.900000\n",
              "         RM            4.333333   280.333333    1.666667\n",
              "         RW            8.087500   550.400000   47.850000\n",
              "         SS            8.625000  2343.000000   67.750000\n",
              "1        AM           39.166667  2580.166667  135.000000\n",
              "         CB           18.394737   987.210526   72.736842\n",
              "         CF           25.882353  2222.764706   78.588235\n",
              "         CM           21.250000  1502.312500   75.875000\n",
              "         DM           22.045455  1380.454545   72.000000\n",
              "         GK           13.584615   859.461538   67.076923\n",
              "         LB           14.000000   612.750000   62.000000\n",
              "         LM            5.000000   936.000000   26.000000\n",
              "         LW           28.055000  2055.700000  100.000000\n",
              "         RB           12.785714   889.142857   75.571429\n",
              "         RM           18.000000  2537.000000  105.000000\n",
              "         RW           32.000000  1110.400000   60.800000\n",
              "         SS           38.000000  2196.000000  180.000000"
            ]
          },
          "execution_count": 22,
          "metadata": {},
          "output_type": "execute_result"
        }
      ],
      "source": [
        "train_data.groupby(['big_club', 'position']).agg({\n",
        "    'market_value': np.mean,\n",
        "    'page_views': np.mean,\n",
        "    'fpl_points': np.mean\n",
        "})"
      ]
    },
    {
      "cell_type": "markdown",
      "metadata": {
        "id": "1wb7NUI-RNyY"
      },
      "source": [
        "<hr style=\"height:3px\">\n",
        "\n",
        "## Part 2.2: Linear regression on the football data\n",
        "This section of the lab focuses on fitting a model to the football data and interpreting the model results. The model we'll use is:\n",
        "\n",
        "$$\\text{market\\_value} \\approx \\beta_0 + \\beta_1\\text{fpl\\_points} + \\beta_2\\text{age} + \\beta_3\\text{age}^2 + \\beta_4 log_2 \\left(\\text{page\\_views}\\right) + \\beta_5\\text{new\\_signing} +\\beta_6\\text{big\\_club} + \\beta_7\\text{position\\_cat}$$\n",
        "\n",
        "We're including a 2nd degree polynomial in age because we expect pay to increase as a player gains experience, but then decrease as they continue aging. We're taking the log of page views because they have such a large, skewed range and the transformed variable will have fewer outliers that could bias the line. We choose the base of the log to be 2 just to make interpretation cleaner.\n",
        "\n",
        "<div class=\"alert alert-info\">\n",
        "<div class=\"exercise\"><b>\n",
        "\n",
        "#### 👉 Exercise\n",
        "\n",
        "</b></div>\n",
        "\n",
        "**Questions**:\n",
        "1. Build a design matrix function and fit this model to the training data. How good is the overall model?\n",
        "2. Interpret the regression model. What is the meaning of the coefficient for:\n",
        "    - age and age $^2$\n",
        "    - $log_2($ page_views $)$\n",
        "    - big_club\n",
        "2. What should a player do in order to improve their market value? How many page views should a player go get to increase their market value by 10?\n",
        "\n",
        "</div>"
      ]
    },
    {
      "cell_type": "code",
      "execution_count": null,
      "metadata": {},
      "outputs": [],
      "source": [
        "#TODO: your code here"
      ]
    },
    {
      "cell_type": "markdown",
      "metadata": {
        "id": "nmMFcE-GRNyZ"
      },
      "source": [
        "TODO: *your answer here*\n"
      ]
    },
    {
      "cell_type": "markdown",
      "metadata": {
        "id": "KsXQMthkRNya"
      },
      "source": [
        "<hr style='height:3px'>\n",
        "\n",
        "## Part 2.3: Turning Categorical Variables into multiple binary variables\n",
        "Of course, we have an error in how we've included player position. Even though the variable is numeric (1,2,3,4) and the model runs without issue, the value we're getting back is garbage. The interpretation, such as it is, is that there is an equal effect of moving from position category 1 to 2, from 2 to 3, and from 3 to 4, and that this effect is about -.61.\n",
        "\n",
        "In reality, we don't expect moving from one position category to another to be equivalent, nor for a move from category 1 to category 3 to be twice as important as a move from category 1 to category 2. We need to introduce better features to model this variable.\n",
        "\n",
        "We'll use `pd.get_dummies` to do the work for us."
      ]
    },
    {
      "cell_type": "code",
      "execution_count": 27,
      "metadata": {
        "colab": {
          "base_uri": "https://localhost:8080/",
          "height": 204
        },
        "id": "6bBAdoP1RNya",
        "outputId": "a539e603-9c47-47ac-fe25-b28b1575f737"
      },
      "outputs": [
        {
          "data": {
            "text/html": [
              "<div>\n",
              "<style scoped>\n",
              "    .dataframe tbody tr th:only-of-type {\n",
              "        vertical-align: middle;\n",
              "    }\n",
              "\n",
              "    .dataframe tbody tr th {\n",
              "        vertical-align: top;\n",
              "    }\n",
              "\n",
              "    .dataframe thead th {\n",
              "        text-align: right;\n",
              "    }\n",
              "</style>\n",
              "<table border=\"1\" class=\"dataframe\">\n",
              "  <thead>\n",
              "    <tr style=\"text-align: right;\">\n",
              "      <th></th>\n",
              "      <th>const</th>\n",
              "      <th>fpl_points</th>\n",
              "      <th>age</th>\n",
              "      <th>age_squared</th>\n",
              "      <th>log_views</th>\n",
              "      <th>new_signing</th>\n",
              "      <th>big_club</th>\n",
              "      <th>position_cat_2</th>\n",
              "      <th>position_cat_3</th>\n",
              "      <th>position_cat_4</th>\n",
              "    </tr>\n",
              "  </thead>\n",
              "  <tbody>\n",
              "    <tr>\n",
              "      <th>307</th>\n",
              "      <td>1.0</td>\n",
              "      <td>126</td>\n",
              "      <td>23</td>\n",
              "      <td>529</td>\n",
              "      <td>9.463524</td>\n",
              "      <td>1</td>\n",
              "      <td>0</td>\n",
              "      <td>0</td>\n",
              "      <td>0</td>\n",
              "      <td>0</td>\n",
              "    </tr>\n",
              "    <tr>\n",
              "      <th>259</th>\n",
              "      <td>1.0</td>\n",
              "      <td>0</td>\n",
              "      <td>22</td>\n",
              "      <td>484</td>\n",
              "      <td>10.100662</td>\n",
              "      <td>0</td>\n",
              "      <td>1</td>\n",
              "      <td>0</td>\n",
              "      <td>0</td>\n",
              "      <td>0</td>\n",
              "    </tr>\n",
              "    <tr>\n",
              "      <th>446</th>\n",
              "      <td>1.0</td>\n",
              "      <td>71</td>\n",
              "      <td>30</td>\n",
              "      <td>900</td>\n",
              "      <td>8.731319</td>\n",
              "      <td>0</td>\n",
              "      <td>0</td>\n",
              "      <td>1</td>\n",
              "      <td>0</td>\n",
              "      <td>0</td>\n",
              "    </tr>\n",
              "    <tr>\n",
              "      <th>360</th>\n",
              "      <td>1.0</td>\n",
              "      <td>52</td>\n",
              "      <td>25</td>\n",
              "      <td>625</td>\n",
              "      <td>8.754888</td>\n",
              "      <td>0</td>\n",
              "      <td>0</td>\n",
              "      <td>1</td>\n",
              "      <td>0</td>\n",
              "      <td>0</td>\n",
              "    </tr>\n",
              "    <tr>\n",
              "      <th>336</th>\n",
              "      <td>1.0</td>\n",
              "      <td>79</td>\n",
              "      <td>36</td>\n",
              "      <td>1296</td>\n",
              "      <td>11.375039</td>\n",
              "      <td>0</td>\n",
              "      <td>0</td>\n",
              "      <td>0</td>\n",
              "      <td>0</td>\n",
              "      <td>0</td>\n",
              "    </tr>\n",
              "  </tbody>\n",
              "</table>\n",
              "</div>"
            ],
            "text/plain": [
              "     const  fpl_points  age  ...  position_cat_2  position_cat_3  position_cat_4\n",
              "307    1.0         126   23  ...               0               0               0\n",
              "259    1.0           0   22  ...               0               0               0\n",
              "446    1.0          71   30  ...               1               0               0\n",
              "360    1.0          52   25  ...               1               0               0\n",
              "336    1.0          79   36  ...               0               0               0\n",
              "\n",
              "[5 rows x 10 columns]"
            ]
          },
          "execution_count": 27,
          "metadata": {},
          "output_type": "execute_result"
        }
      ],
      "source": [
        "train_design_recoded = pd.get_dummies(train_design, columns=['position_cat'], drop_first=True)\n",
        "test_design_recoded = pd.get_dummies(test_design, columns=['position_cat'], drop_first=True)\n",
        "\n",
        "train_design_recoded.head()"
      ]
    },
    {
      "cell_type": "markdown",
      "metadata": {
        "id": "CvE3IyODRNya"
      },
      "source": [
        "We've removed the original `position_cat` column and created three new ones.\n",
        "\n",
        "<div class=\"alert \">\n",
        "\n",
        "#### ❓ Why only three new columns?\n",
        "Why does pandas give us the option to drop the first category? \n",
        "</div>\n",
        "\n"
      ]
    },
    {
      "cell_type": "markdown",
      "metadata": {},
      "source": [
        "<div class=\"alert alert-info\">\n",
        "<div class=\"exercise\"><b>\n",
        "\n",
        "#### 👉 Exercise\n",
        "\n",
        "</b></div>\n",
        "\n",
        "**Questions**:\n",
        "1. If we're fitting a model without a constant, should we have three dummy columns or four dummy columns?\n",
        "2. Fit a model and interpret the coefficient of `position_cat_2`.\n",
        "</div>"
      ]
    },
    {
      "cell_type": "markdown",
      "metadata": {
        "id": "aUQxcGR-RNyb"
      },
      "source": [
        "# Part 3: A nice trick for forward-backwards\n",
        "\n",
        "XOR (operator ^) is a logical operation that only returns true when input differ. We can use it to implement forward-or-backwards selection when we want to keep track of whet predictors are \"left\" from a given list of predictors.\n",
        "\n",
        "The set analog is \"symmetric difference\". From the python docs:\n",
        "\n",
        "`s.symmetric_difference(t)\ts ^ t\tnew set with elements in either s or t but not both`\n"
      ]
    },
    {
      "cell_type": "code",
      "execution_count": 31,
      "metadata": {
        "colab": {
          "base_uri": "https://localhost:8080/"
        },
        "id": "y7-XeV8YRNyb",
        "outputId": "f6f0810f-6c5f-4b38-e794-f99f04395632"
      },
      "outputs": [
        {
          "data": {
            "text/plain": [
              "{1, 2, 3}"
            ]
          },
          "execution_count": 31,
          "metadata": {},
          "output_type": "execute_result"
        }
      ],
      "source": [
        "set() ^ set([1,2,3])"
      ]
    },
    {
      "cell_type": "code",
      "execution_count": 32,
      "metadata": {
        "colab": {
          "base_uri": "https://localhost:8080/"
        },
        "id": "xE9q0U9aRNyb",
        "outputId": "7856640c-6691-4862-fca5-1da85e33676b"
      },
      "outputs": [
        {
          "data": {
            "text/plain": [
              "{2, 3}"
            ]
          },
          "execution_count": 32,
          "metadata": {},
          "output_type": "execute_result"
        }
      ],
      "source": [
        "set([1]) ^ set([1,2,3])"
      ]
    },
    {
      "cell_type": "code",
      "execution_count": 33,
      "metadata": {
        "colab": {
          "base_uri": "https://localhost:8080/"
        },
        "id": "u0Dp7tAsRNyb",
        "outputId": "8a64daa7-0302-4d59-f85f-7c9b28bdd4ad"
      },
      "outputs": [
        {
          "data": {
            "text/plain": [
              "{3}"
            ]
          },
          "execution_count": 33,
          "metadata": {},
          "output_type": "execute_result"
        }
      ],
      "source": [
        "set([1, 2]) ^ set([1,2,3])"
      ]
    },
    {
      "cell_type": "markdown",
      "metadata": {
        "id": "w98Cxr2wRNyc"
      },
      "source": [
        "<div class=\"alert alert-info\">\n",
        "<div class=\"exercise\"><b>\n",
        "\n",
        "#### 👉 Exercise\n",
        "\n",
        "</b></div>\n",
        "\n",
        "Outline a step-forwards algorithm which uses this idea\n",
        "\n",
        "</div>"
      ]
    },
    {
      "cell_type": "markdown",
      "metadata": {
        "id": "ztzq0VlGRNyc"
      },
      "source": [
        "*your answer here*\n"
      ]
    }
  ],
  "metadata": {
    "colab": {
      "name": "lab1 Intro to ML MPR-solution.ipynb",
      "provenance": []
    },
    "kernelspec": {
      "display_name": "Python 3",
      "language": "python",
      "name": "python3"
    },
    "language_info": {
      "codemirror_mode": {
        "name": "ipython",
        "version": 3
      },
      "file_extension": ".py",
      "mimetype": "text/x-python",
      "name": "python",
      "nbconvert_exporter": "python",
      "pygments_lexer": "ipython3",
      "version": "3.10.11"
    }
  },
  "nbformat": 4,
  "nbformat_minor": 0
}
