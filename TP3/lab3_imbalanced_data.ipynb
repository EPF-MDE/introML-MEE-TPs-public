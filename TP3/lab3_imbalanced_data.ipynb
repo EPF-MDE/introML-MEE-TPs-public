{
  "cells": [
    {
      "cell_type": "markdown",
      "metadata": {},
      "source": [
        "<img style=\"float: left; padding-right: 10px; width: 45px\" src=\"https://upload.wikimedia.org/wikipedia/fr/b/b1/Logo_EPF.png?raw=true\"> \n",
        "\n",
        "**Introduction to Machine Learning - P2025: Energy & Environment**\n",
        "\n",
        "## Lab 3:  Classification with imbalanced datasets\n",
        "*Credits*: Adapted from MDE's \"Intro to ML\" course by Y. Idrissi and I. Chafai.\n",
        "\n",
        "**First name:**\n",
        "\n",
        "**Last name:**\n",
        "\n",
        "**Group:**\n",
        "\n",
        "\n",
        "---"
      ]
    },
    {
      "cell_type": "markdown",
      "metadata": {},
      "source": [
        "## Introduction\n",
        "Imbalanced classes are a common problem in machine learning classification where there are a disproportionate ratio of observations in each class.  Class imbalance can be found in many different areas including medical diagnosis, spam filtering, ad-click prediction and fraud detection.\n",
        "\n",
        "In this guide, we'll look at five possible ways to handle an imbalanced class problem using credit card data. <br>**Our objective will be to correctly classify fraudulent credit card transactions.**"
      ]
    },
    {
      "cell_type": "markdown",
      "metadata": {},
      "source": [
        "# Table of contents\n",
        "1. Presenting the data\n",
        "2. Dummy baseline\n",
        "3. Model 1: logistic regression\n",
        "4. Techniques without resampling\n",
        "  - Change metrics\n",
        "  - Change model\n",
        "5. Resampling techniques\n",
        "  - Oversampling minority class\n",
        "  - Undersampling majority class\n",
        "  - Generating synthetic samples with SMOTE"
      ]
    },
    {
      "cell_type": "markdown",
      "metadata": {},
      "source": [
        "# Imports"
      ]
    },
    {
      "cell_type": "code",
      "execution_count": 1,
      "metadata": {},
      "outputs": [],
      "source": [
        "import numpy as np\n",
        "import pandas as pd\n",
        "import matplotlib.pyplot as plt\n",
        "import seaborn as sns\n",
        "\n",
        "# install package used for the last exercise, can be commented after done once\n",
        "%pip install imblearn\n",
        "\n",
        "import warnings\n",
        "warnings.filterwarnings('ignore')\n"
      ]
    },
    {
      "cell_type": "code",
      "execution_count": 2,
      "metadata": {},
      "outputs": [
        {
          "data": {
            "text/plain": [
              "<Figure size 640x480 with 0 Axes>"
            ]
          },
          "metadata": {},
          "output_type": "display_data"
        }
      ],
      "source": [
        "# setting up default plotting parameters\n",
        "%matplotlib inline\n",
        "\n",
        "# plt.rcParams['figure.figsize'] = [20.0, 7.0]\n",
        "# plt.rcParams.update({'font.size': 22,})\n",
        "\n",
        "sns.set_theme()\n",
        "sns.set_style('dark')\n",
        "sns.despine()\n",
        "sns.set_context('notebook', font_scale=1.5)"
      ]
    },
    {
      "cell_type": "markdown",
      "metadata": {},
      "source": [
        "# Presenting the data"
      ]
    },
    {
      "cell_type": "markdown",
      "metadata": {},
      "source": [
        "**In the complete dataset, there are 492 fraudulent operations and 284315 valid operations.** <br>\n",
        "\n",
        "**However, during the lab, we will use a subsampled dataset. You can however play with the real dataset afterwards**"
      ]
    },
    {
      "cell_type": "code",
      "execution_count": 3,
      "metadata": {},
      "outputs": [
        {
          "name": "stdout",
          "output_type": "stream",
          "text": [
            "(28481, 31)\n"
          ]
        },
        {
          "data": {
            "text/html": [
              "<div>\n",
              "<style scoped>\n",
              "    .dataframe tbody tr th:only-of-type {\n",
              "        vertical-align: middle;\n",
              "    }\n",
              "\n",
              "    .dataframe tbody tr th {\n",
              "        vertical-align: top;\n",
              "    }\n",
              "\n",
              "    .dataframe thead th {\n",
              "        text-align: right;\n",
              "    }\n",
              "</style>\n",
              "<table border=\"1\" class=\"dataframe\">\n",
              "  <thead>\n",
              "    <tr style=\"text-align: right;\">\n",
              "      <th></th>\n",
              "      <th>Time</th>\n",
              "      <th>V1</th>\n",
              "      <th>V2</th>\n",
              "      <th>V3</th>\n",
              "      <th>V4</th>\n",
              "      <th>V5</th>\n",
              "      <th>V6</th>\n",
              "      <th>V7</th>\n",
              "      <th>V8</th>\n",
              "      <th>V9</th>\n",
              "      <th>...</th>\n",
              "      <th>V21</th>\n",
              "      <th>V22</th>\n",
              "      <th>V23</th>\n",
              "      <th>V24</th>\n",
              "      <th>V25</th>\n",
              "      <th>V26</th>\n",
              "      <th>V27</th>\n",
              "      <th>V28</th>\n",
              "      <th>Amount</th>\n",
              "      <th>Class</th>\n",
              "    </tr>\n",
              "  </thead>\n",
              "  <tbody>\n",
              "    <tr>\n",
              "      <th>0</th>\n",
              "      <td>59632.0</td>\n",
              "      <td>-0.365570</td>\n",
              "      <td>0.857326</td>\n",
              "      <td>1.601891</td>\n",
              "      <td>1.276523</td>\n",
              "      <td>0.265923</td>\n",
              "      <td>0.225669</td>\n",
              "      <td>0.456214</td>\n",
              "      <td>0.188240</td>\n",
              "      <td>-0.692619</td>\n",
              "      <td>...</td>\n",
              "      <td>0.087559</td>\n",
              "      <td>0.473280</td>\n",
              "      <td>-0.137397</td>\n",
              "      <td>0.244391</td>\n",
              "      <td>-0.272493</td>\n",
              "      <td>-0.283047</td>\n",
              "      <td>0.193123</td>\n",
              "      <td>0.143190</td>\n",
              "      <td>1.00</td>\n",
              "      <td>0</td>\n",
              "    </tr>\n",
              "    <tr>\n",
              "      <th>1</th>\n",
              "      <td>62189.0</td>\n",
              "      <td>1.023773</td>\n",
              "      <td>-0.193395</td>\n",
              "      <td>1.276809</td>\n",
              "      <td>1.271923</td>\n",
              "      <td>-0.847045</td>\n",
              "      <td>0.411318</td>\n",
              "      <td>-0.720179</td>\n",
              "      <td>0.374841</td>\n",
              "      <td>0.878952</td>\n",
              "      <td>...</td>\n",
              "      <td>0.051391</td>\n",
              "      <td>0.273518</td>\n",
              "      <td>0.102789</td>\n",
              "      <td>0.057612</td>\n",
              "      <td>0.152152</td>\n",
              "      <td>-0.372631</td>\n",
              "      <td>0.091121</td>\n",
              "      <td>0.035413</td>\n",
              "      <td>23.42</td>\n",
              "      <td>0</td>\n",
              "    </tr>\n",
              "    <tr>\n",
              "      <th>2</th>\n",
              "      <td>75530.0</td>\n",
              "      <td>-0.997827</td>\n",
              "      <td>0.925281</td>\n",
              "      <td>0.616181</td>\n",
              "      <td>0.009446</td>\n",
              "      <td>-0.025082</td>\n",
              "      <td>-0.828361</td>\n",
              "      <td>0.628374</td>\n",
              "      <td>0.276775</td>\n",
              "      <td>-0.991345</td>\n",
              "      <td>...</td>\n",
              "      <td>0.155928</td>\n",
              "      <td>0.328605</td>\n",
              "      <td>0.179409</td>\n",
              "      <td>0.351494</td>\n",
              "      <td>-0.285212</td>\n",
              "      <td>0.238287</td>\n",
              "      <td>-0.118637</td>\n",
              "      <td>0.033654</td>\n",
              "      <td>42.81</td>\n",
              "      <td>0</td>\n",
              "    </tr>\n",
              "    <tr>\n",
              "      <th>3</th>\n",
              "      <td>99940.0</td>\n",
              "      <td>-2.950527</td>\n",
              "      <td>-1.300757</td>\n",
              "      <td>1.421298</td>\n",
              "      <td>3.134102</td>\n",
              "      <td>4.604562</td>\n",
              "      <td>-1.773035</td>\n",
              "      <td>-0.561876</td>\n",
              "      <td>0.129093</td>\n",
              "      <td>-1.034959</td>\n",
              "      <td>...</td>\n",
              "      <td>0.397170</td>\n",
              "      <td>0.443959</td>\n",
              "      <td>-0.201887</td>\n",
              "      <td>-0.371432</td>\n",
              "      <td>1.441045</td>\n",
              "      <td>0.293148</td>\n",
              "      <td>-0.188636</td>\n",
              "      <td>0.073548</td>\n",
              "      <td>1.00</td>\n",
              "      <td>0</td>\n",
              "    </tr>\n",
              "    <tr>\n",
              "      <th>4</th>\n",
              "      <td>168047.0</td>\n",
              "      <td>2.089662</td>\n",
              "      <td>0.064907</td>\n",
              "      <td>-2.295436</td>\n",
              "      <td>0.318867</td>\n",
              "      <td>0.781676</td>\n",
              "      <td>-0.648774</td>\n",
              "      <td>0.281364</td>\n",
              "      <td>-0.187433</td>\n",
              "      <td>0.576539</td>\n",
              "      <td>...</td>\n",
              "      <td>-0.276488</td>\n",
              "      <td>-0.754165</td>\n",
              "      <td>0.155672</td>\n",
              "      <td>-0.082590</td>\n",
              "      <td>-0.027077</td>\n",
              "      <td>0.380547</td>\n",
              "      <td>-0.084189</td>\n",
              "      <td>-0.042292</td>\n",
              "      <td>18.79</td>\n",
              "      <td>0</td>\n",
              "    </tr>\n",
              "  </tbody>\n",
              "</table>\n",
              "<p>5 rows × 31 columns</p>\n",
              "</div>"
            ],
            "text/plain": [
              "       Time        V1        V2        V3        V4        V5        V6   \n",
              "0   59632.0 -0.365570  0.857326  1.601891  1.276523  0.265923  0.225669  \\\n",
              "1   62189.0  1.023773 -0.193395  1.276809  1.271923 -0.847045  0.411318   \n",
              "2   75530.0 -0.997827  0.925281  0.616181  0.009446 -0.025082 -0.828361   \n",
              "3   99940.0 -2.950527 -1.300757  1.421298  3.134102  4.604562 -1.773035   \n",
              "4  168047.0  2.089662  0.064907 -2.295436  0.318867  0.781676 -0.648774   \n",
              "\n",
              "         V7        V8        V9  ...       V21       V22       V23       V24   \n",
              "0  0.456214  0.188240 -0.692619  ...  0.087559  0.473280 -0.137397  0.244391  \\\n",
              "1 -0.720179  0.374841  0.878952  ...  0.051391  0.273518  0.102789  0.057612   \n",
              "2  0.628374  0.276775 -0.991345  ...  0.155928  0.328605  0.179409  0.351494   \n",
              "3 -0.561876  0.129093 -1.034959  ...  0.397170  0.443959 -0.201887 -0.371432   \n",
              "4  0.281364 -0.187433  0.576539  ... -0.276488 -0.754165  0.155672 -0.082590   \n",
              "\n",
              "        V25       V26       V27       V28  Amount  Class  \n",
              "0 -0.272493 -0.283047  0.193123  0.143190    1.00      0  \n",
              "1  0.152152 -0.372631  0.091121  0.035413   23.42      0  \n",
              "2 -0.285212  0.238287 -0.118637  0.033654   42.81      0  \n",
              "3  1.441045  0.293148 -0.188636  0.073548    1.00      0  \n",
              "4 -0.027077  0.380547 -0.084189 -0.042292   18.79      0  \n",
              "\n",
              "[5 rows x 31 columns]"
            ]
          },
          "execution_count": 3,
          "metadata": {},
          "output_type": "execute_result"
        }
      ],
      "source": [
        "# read in data\n",
        "df = pd.read_csv('creditcard_sampled_10_percent.csv')\n",
        "class_names = [\"Not fraud\", \"Fraud\"]\n",
        "print(df.shape)\n",
        "df.head()"
      ]
    },
    {
      "cell_type": "code",
      "execution_count": 4,
      "metadata": {},
      "outputs": [
        {
          "name": "stdout",
          "output_type": "stream",
          "text": [
            "<class 'pandas.core.frame.DataFrame'>\n",
            "RangeIndex: 28481 entries, 0 to 28480\n",
            "Data columns (total 31 columns):\n",
            " #   Column  Non-Null Count  Dtype  \n",
            "---  ------  --------------  -----  \n",
            " 0   Time    28481 non-null  float64\n",
            " 1   V1      28481 non-null  float64\n",
            " 2   V2      28481 non-null  float64\n",
            " 3   V3      28481 non-null  float64\n",
            " 4   V4      28481 non-null  float64\n",
            " 5   V5      28481 non-null  float64\n",
            " 6   V6      28481 non-null  float64\n",
            " 7   V7      28481 non-null  float64\n",
            " 8   V8      28481 non-null  float64\n",
            " 9   V9      28481 non-null  float64\n",
            " 10  V10     28481 non-null  float64\n",
            " 11  V11     28481 non-null  float64\n",
            " 12  V12     28481 non-null  float64\n",
            " 13  V13     28481 non-null  float64\n",
            " 14  V14     28481 non-null  float64\n",
            " 15  V15     28481 non-null  float64\n",
            " 16  V16     28481 non-null  float64\n",
            " 17  V17     28481 non-null  float64\n",
            " 18  V18     28481 non-null  float64\n",
            " 19  V19     28481 non-null  float64\n",
            " 20  V20     28481 non-null  float64\n",
            " 21  V21     28481 non-null  float64\n",
            " 22  V22     28481 non-null  float64\n",
            " 23  V23     28481 non-null  float64\n",
            " 24  V24     28481 non-null  float64\n",
            " 25  V25     28481 non-null  float64\n",
            " 26  V26     28481 non-null  float64\n",
            " 27  V27     28481 non-null  float64\n",
            " 28  V28     28481 non-null  float64\n",
            " 29  Amount  28481 non-null  float64\n",
            " 30  Class   28481 non-null  int64  \n",
            "dtypes: float64(30), int64(1)\n",
            "memory usage: 6.7 MB\n"
          ]
        }
      ],
      "source": [
        "df.info()"
      ]
    },
    {
      "cell_type": "markdown",
      "metadata": {},
      "source": [
        "The column `Class` contains indicator values: `0` for normal transactions and `1` for fraudulent transactions.\n",
        "You can check the quantity of samples in each class using `.value_counts()`:"
      ]
    },
    {
      "cell_type": "code",
      "execution_count": 114,
      "metadata": {},
      "outputs": [
        {
          "name": "stdout",
          "output_type": "stream",
          "text": [
            "Class\n",
            "0    28429\n",
            "1       52\n",
            "Name: count, dtype: int64\n"
          ]
        }
      ],
      "source": [
        "print(df.Class.value_counts())"
      ]
    },
    {
      "cell_type": "markdown",
      "metadata": {},
      "source": [
        "We can also se that in a histogram:"
      ]
    },
    {
      "cell_type": "code",
      "execution_count": 140,
      "metadata": {},
      "outputs": [
        {
          "data": {
            "image/png": "[encoded data removed]",
            "text/plain": [
              "<Figure size 2000x700 with 1 Axes>"
            ]
          },
          "metadata": {},
          "output_type": "display_data"
        }
      ],
      "source": [
        "# using seaborns countplot to show distribution of transactions in dataset\n",
        "ax = sns.countplot(data=df, x=\"Class\")\n",
        "# add count annotatio to the top of the bars\n",
        "ax.bar_label(ax.containers[0])  # bar_label available since matplotlib 3.4.0\n",
        "ax.set_title('Distribution of Transactions', fontsize=30)\n",
        "ax.set_xticks([0, 1], class_names);"
      ]
    },
    {
      "cell_type": "markdown",
      "metadata": {},
      "source": [
        "\n",
        "<div class=\"alert alert-info exercise\" >\n",
        "\n",
        "#### 👉**Exercise** (5 min)\n",
        "\n",
        "Compute the percentage of fraudulent transactions (ie: when Class == 1)\n",
        "\n",
        "</div>"
      ]
    },
    {
      "cell_type": "code",
      "execution_count": null,
      "metadata": {},
      "outputs": [],
      "source": [
        "# TODO: Code here"
      ]
    },
    {
      "cell_type": "markdown",
      "metadata": {},
      "source": [
        "From the plot above, we can see we have a very imbalanced class -  just ~0.18% of our dataset belong to the target class!\n",
        "\n",
        "This is a problem because many machine learning models are designed to maximize overall accuracy, which especially with imbalanced classes may not be the best metric to use. Classification accuracy is defined as the number of correct predictions divided by total predictions times 100. For example, if we simply predicted all transactions are not fraud, we would get a classification accuracy score of over 99%!\n"
      ]
    },
    {
      "cell_type": "markdown",
      "metadata": {},
      "source": [
        "\n",
        "### Create Train and Test Sets\n",
        "\n",
        "The training set is used to build and validate the model, while the test set is reserved for testing the model on unseen data."
      ]
    },
    {
      "cell_type": "markdown",
      "metadata": {},
      "source": [
        "<div class=\"alert alert-info exercise\" >\n",
        "\n",
        "#### 👉**Exercise** (2 min)\n",
        "\n",
        "Separate the dataset into `y` and `X`, `y` being the target column and `X` the feature matrix.\n",
        "\n",
        "</div>"
      ]
    },
    {
      "cell_type": "code",
      "execution_count": null,
      "metadata": {},
      "outputs": [],
      "source": [
        "# Prepare data for modeling\n",
        "# TODO: Code here\n",
        "y =\n",
        "X =\n"
      ]
    },
    {
      "cell_type": "code",
      "execution_count": 5,
      "metadata": {},
      "outputs": [],
      "source": [
        "# SOLUTION\n",
        "X = df.drop(columns=\"Class\")\n",
        "y = df.Class"
      ]
    },
    {
      "cell_type": "markdown",
      "metadata": {},
      "source": [
        "Now  let us split this data into a training set and a test set. With imbalanced data, it is important to set `stratify=y` so that all classes get represented in both data splits."
      ]
    },
    {
      "cell_type": "code",
      "execution_count": 6,
      "metadata": {},
      "outputs": [],
      "source": [
        "\n",
        "from sklearn.model_selection import train_test_split\n",
        "\n",
        "# setting up testing and training sets\n",
        "X_train, X_test, y_train, y_test = train_test_split(X, y, test_size=0.25, \n",
        "                                                    stratify=y,random_state=27)"
      ]
    },
    {
      "cell_type": "markdown",
      "metadata": {},
      "source": [
        "<div class=\"alert alert-info exercise\" >\n",
        "\n",
        "#### 👉**Exercise** (2 min)\n",
        "\n",
        "Check the proportion of fraud cases remained the same as before in both training and test splits.\n",
        "\n",
        "</div>"
      ]
    },
    {
      "cell_type": "code",
      "execution_count": null,
      "metadata": {},
      "outputs": [],
      "source": [
        "# TODO your code here\n"
      ]
    },
    {
      "cell_type": "markdown",
      "metadata": {},
      "source": [
        "# Setting-up a \"dummy\" baseline\n",
        "\n",
        "To set up a baseline, we are going to use a very simple rule: predict the most frequent class. This `DummyClassifier` can be implemented in scikit-learn as follows:"
      ]
    },
    {
      "cell_type": "code",
      "execution_count": 119,
      "metadata": {},
      "outputs": [
        {
          "name": "stdout",
          "output_type": "stream",
          "text": [
            "Unique predicted labels:  [0]\n"
          ]
        }
      ],
      "source": [
        "from sklearn.dummy import DummyClassifier\n",
        "\n",
        "# DummyClassifier to predict only target 0\n",
        "dummy = DummyClassifier(strategy='most_frequent').fit(X_train, y_train)\n",
        "dummy_pred = dummy.predict(X_test)\n",
        "\n",
        "# checking unique labels\n",
        "print('Unique predicted labels: ', (np.unique(dummy_pred)))"
      ]
    },
    {
      "cell_type": "markdown",
      "metadata": {},
      "source": [
        "As we can see, our Dummy Classifier predicts target == 0 (No fraud) for all the test set. This is surely not a very useful model, despite being quite accurate...\n"
      ]
    },
    {
      "cell_type": "markdown",
      "metadata": {},
      "source": [
        "## Evaluating the baseline model"
      ]
    },
    {
      "cell_type": "markdown",
      "metadata": {},
      "source": [
        "<div class=\"alert alert-info exercise\" >\n",
        "\n",
        "#### 👉**Exercise** (5 min)\n",
        "\n",
        "Compute the accuracy of the dummy classifier using two different ways :\n",
        "*   First with your own code (can be a loop or manipulation of NumPy arrays)\n",
        "*   Then using `accuracy_score` from `sklearn.metrics`\n",
        "\n",
        "**Accuracy is the fraction of predictions our model got right. Formally, accuracy has the following definition:**\n",
        "$$ \\text{Accuracy} = \\frac{\\text{Number of correct predictions}}{\\text{Number of total predictions}}$$\n"
      ]
    },
    {
      "cell_type": "code",
      "execution_count": null,
      "metadata": {},
      "outputs": [],
      "source": [
        "# TODO: Code here\n",
        "# TODO: accuracy with your own code\n",
        "\n",
        "\n",
        "# TODO: accuracy with sklearn using sklearn.metrics.accuracy_score"
      ]
    },
    {
      "cell_type": "markdown",
      "metadata": {},
      "source": [
        "As expected, our accuracy score for classifying all transactions as not fraud is quite high!\n"
      ]
    },
    {
      "cell_type": "markdown",
      "metadata": {},
      "source": [
        "# Model 1: linear classification with Logistic Regression\n",
        "As the Dummy Classifier predicts only Class 0, it is clearly not a good option for our objective of correctly classifying fraudulent transactions.\n",
        "\n",
        "Let's see how logistic regression performs on this dataset."
      ]
    },
    {
      "cell_type": "code",
      "execution_count": 13,
      "metadata": {},
      "outputs": [],
      "source": [
        "from sklearn.linear_model import LogisticRegression\n",
        "\n",
        "# Modeling the data as is\n",
        "# Train model\n",
        "lr = LogisticRegression(solver='liblinear').fit(X_train, y_train)\n",
        " \n",
        "# Predict on training set\n",
        "lr_pred = lr.predict(X_test)"
      ]
    },
    {
      "cell_type": "code",
      "execution_count": 122,
      "metadata": {},
      "outputs": [
        {
          "data": {
            "text/plain": [
              "0.9988765622805785"
            ]
          },
          "execution_count": 122,
          "metadata": {},
          "output_type": "execute_result"
        }
      ],
      "source": [
        "# Checking accuracy\n",
        "accuracy_score(y_test, lr_pred)"
      ]
    },
    {
      "cell_type": "code",
      "execution_count": 123,
      "metadata": {},
      "outputs": [
        {
          "data": {
            "text/plain": [
              "0\n",
              "0    7112\n",
              "1       9\n",
              "Name: count, dtype: int64"
            ]
          },
          "execution_count": 123,
          "metadata": {},
          "output_type": "execute_result"
        }
      ],
      "source": [
        "# Checking unique values\n",
        "predictions = pd.DataFrame(lr_pred)\n",
        "predictions[0].value_counts()"
      ]
    },
    {
      "cell_type": "markdown",
      "metadata": {},
      "source": [
        "Logistic Regression outperformed the Dummy Classifier!  We can see that it predicted some instances of class 1, so this is definitely an improvement.  But can we do better?\n",
        "\n",
        "Let's see if we can apply some techniques for dealing with class imbalance to improve these results.\n"
      ]
    },
    {
      "cell_type": "markdown",
      "metadata": {},
      "source": [
        "# Techniques without resampling"
      ]
    },
    {
      "cell_type": "markdown",
      "metadata": {},
      "source": [
        "\n",
        "## 1.  Change the performance metric\n",
        "Accuracy is not the best metric to use when evaluating imbalanced datasets as it can be misleading.  Metrics that can provide better insight include:\n",
        " - **Confusion Matrix:**  a talbe showing correct predictions and types of incorrect predictions.\n",
        " - **Precision:**  the number of true positives divided by all positive predictions. Precision is also called Positive Predictive Value. It is a measure of a classifier's exactness. Low precision indicates a high number of false positives.\n",
        " - **Recall:**  the number of true positives divided by the number of positive values in the test data. Recall is also called Sensitivity or the True Positive Rate. It is a measure of a classifier's completeness. Low recall indicates a high number of false negatives.\n",
        " - **F1: Score:**  the weighted average of precision and recall.\n",
        " \n",
        "Since our main objective with the dataset is to prioritize accuraltely classifying fraud cases the recall score can be considered our main metric to use for evaluating outcomes.<br>\n",
        "\n",
        "**How do we compute these metrics :**\n",
        "Let's code these metrics ourselves to make sure we understand what it is."
      ]
    },
    {
      "cell_type": "markdown",
      "metadata": {},
      "source": [
        "<div class=\"alert alert-info exercise\" >\n",
        "\n",
        "#### 👉**Exercise** (10 min)\n",
        "\n",
        "For the LogisticRegression model, compute true positives (`tp`), false positives (`fp`), false negatives (`fn`), true negatives (`tn`). Here we consider class `1` (fraud) as the positive class (and `0` as the negative one).\n",
        "\n",
        "Then, use these values to compute the metrics `Precision`, `Recall` and `f1-score`.\n",
        "\n",
        "You can find the formal definitions here https://en.wikipedia.org/wiki/Confusion_matrix.\n",
        "\n",
        "\n",
        "</div>"
      ]
    },
    {
      "cell_type": "code",
      "execution_count": null,
      "metadata": {},
      "outputs": [],
      "source": [
        "# TODO: Code here\n",
        "tp = \n",
        "fp =\n",
        "fn =\n",
        "tn = \n",
        "\n",
        "print(f\"True pos: {tp:4d} False pos: {fp:4d}\")\n",
        "print(f\"True neg: {tn:4d} False neg: {fn:4d}\")"
      ]
    },
    {
      "cell_type": "code",
      "execution_count": null,
      "metadata": {},
      "outputs": [],
      "source": [
        "# TODO: Code here\n",
        "precision = \n",
        "recall = \n",
        "f1score = \n",
        "\n",
        "print(f\"Precision: {precision:0.5f}\")\n",
        "print(f\"Recall:    {recall:0.5f}\")\n",
        "print(f\"F1:        {f1score:0.5f}\")"
      ]
    },
    {
      "cell_type": "markdown",
      "metadata": {},
      "source": [
        "### **How do we compute these metrics using sklearn:**\n",
        "Let's see how we compute these metrics using `sklearn.metrics`. We'll do it for the `LogisticRegression`. We need `y_test` which are the real test observations and we need `lr_pred` which are the predictions of the `LogisticRegression` on the test set."
      ]
    },
    {
      "cell_type": "code",
      "execution_count": 103,
      "metadata": {},
      "outputs": [
        {
          "name": "stdout",
          "output_type": "stream",
          "text": [
            "Accuracy is  0.9988765622805785\n",
            "F1-score is  0.6363636363636364\n",
            "Recall is    0.5384615384615384\n",
            "Confusion matrix is (row: true label, col: pred label )\n"
          ]
        },
        {
          "data": {
            "text/html": [
              "<div>\n",
              "<style scoped>\n",
              "    .dataframe tbody tr th:only-of-type {\n",
              "        vertical-align: middle;\n",
              "    }\n",
              "\n",
              "    .dataframe tbody tr th {\n",
              "        vertical-align: top;\n",
              "    }\n",
              "\n",
              "    .dataframe thead th {\n",
              "        text-align: right;\n",
              "    }\n",
              "</style>\n",
              "<table border=\"1\" class=\"dataframe\">\n",
              "  <thead>\n",
              "    <tr style=\"text-align: right;\">\n",
              "      <th></th>\n",
              "      <th>0</th>\n",
              "      <th>1</th>\n",
              "    </tr>\n",
              "  </thead>\n",
              "  <tbody>\n",
              "    <tr>\n",
              "      <th>0</th>\n",
              "      <td>7106</td>\n",
              "      <td>2</td>\n",
              "    </tr>\n",
              "    <tr>\n",
              "      <th>1</th>\n",
              "      <td>6</td>\n",
              "      <td>7</td>\n",
              "    </tr>\n",
              "  </tbody>\n",
              "</table>\n",
              "</div>"
            ],
            "text/plain": [
              "      0  1\n",
              "0  7106  2\n",
              "1     6  7"
            ]
          },
          "execution_count": 103,
          "metadata": {},
          "output_type": "execute_result"
        }
      ],
      "source": [
        "from sklearn.metrics import accuracy_score, f1_score, confusion_matrix, recall_score, precision_score\n",
        "\n",
        "# Example on LogisticRegression\n",
        "print('Accuracy is ', accuracy_score(y_test, lr_pred))\n",
        "print('F1-score is ', f1_score(y_test, lr_pred))\n",
        "print('Recall is   ', recall_score(y_test, lr_pred))\n",
        "print('Precision is ', precision_score(y_test, lr_pred))\n",
        "print('Confusion matrix is (row: true label, col: pred label )')\n",
        "pd.DataFrame(confusion_matrix(y_test, lr_pred)).head(2)"
      ]
    },
    {
      "cell_type": "markdown",
      "metadata": {},
      "source": [
        "We have a very high accuracy score of 0.999 but a F1 score of only 0.752.  And from the confusion matrix, we can see we are misclassifying several observations leading to a recall score of only 0.64.\n"
      ]
    },
    {
      "cell_type": "markdown",
      "metadata": {},
      "source": [
        "**NOTE** `sklearn` provides a helper function to create a nice plot for the confusion matrix:"
      ]
    },
    {
      "cell_type": "code",
      "execution_count": 16,
      "metadata": {},
      "outputs": [
        {
          "data": {
            "text/plain": [
              "<sklearn.metrics._plot.confusion_matrix.ConfusionMatrixDisplay at 0x1e3b012fd90>"
            ]
          },
          "execution_count": 16,
          "metadata": {},
          "output_type": "execute_result"
        },
        {
          "data": {
            "image/png": "[encoded data removed]",
            "text/plain": [
              "<Figure size 640x480 with 2 Axes>"
            ]
          },
          "metadata": {},
          "output_type": "display_data"
        }
      ],
      "source": [
        "from sklearn.metrics import ConfusionMatrixDisplay\n",
        "ConfusionMatrixDisplay.from_predictions(\n",
        "    y_test, lr_pred, display_labels=[\"Not fraud\", \"Fraud\"],\n",
        "    cmap=\"Blues\")"
      ]
    },
    {
      "cell_type": "markdown",
      "metadata": {},
      "source": [
        "It also has a handy function to compute and print multiple metrics at once: `classification_report`"
      ]
    },
    {
      "cell_type": "code",
      "execution_count": 15,
      "metadata": {},
      "outputs": [
        {
          "name": "stdout",
          "output_type": "stream",
          "text": [
            "              precision    recall  f1-score   support\n",
            "\n",
            "   Not fraud      0.999     1.000     0.999      7108\n",
            "       Fraud      0.778     0.538     0.636        13\n",
            "\n",
            "    accuracy                          0.999      7121\n",
            "   macro avg      0.888     0.769     0.818      7121\n",
            "weighted avg      0.999     0.999     0.999      7121\n",
            "\n"
          ]
        }
      ],
      "source": [
        "from sklearn.metrics import classification_report\n",
        "\n",
        "print(classification_report(y_test, lr_pred, \n",
        "                            target_names=class_names, digits=3))"
      ]
    },
    {
      "cell_type": "markdown",
      "metadata": {},
      "source": [
        "\n",
        "## 2. Change the algorithm\n",
        "While in every machine learning problem, its a good rule of thumb to try a variety of algorithms, it can be especially beneficial with imbalanced datasets.  Decision trees frequently perform well on imbalanced data.  They work by learning a hierachy of if/else questions.  This can force both classes to be addressed.\n",
        "\n"
      ]
    },
    {
      "cell_type": "markdown",
      "metadata": {},
      "source": [
        "\n",
        "<div class=\"alert alert-info exercise\" >\n",
        "\n",
        "#### 👉**Exercise** (5 min)\n",
        "\n",
        "Use a [`RandomForestClassifier`](https://scikit-learn.org/stable/modules/generated/sklearn.ensemble.RandomForestClassifier.html) with `n_estimators=10` and compute the usual metrics (accuracy, f1-score, recall and confusion matrix)\n",
        "\n",
        "</div>"
      ]
    },
    {
      "cell_type": "code",
      "execution_count": null,
      "metadata": {},
      "outputs": [],
      "source": [
        "# TODO: Code here"
      ]
    },
    {
      "cell_type": "markdown",
      "metadata": {},
      "source": [
        "# Resampling Techniques\n",
        "\n",
        "## 3. Oversampling Minority Class\n",
        "Oversampling can be defined as adding more copies of the minority class.  Oversampling can be a good choice when you don't have a ton of data to work with.  A con to consider when undersampling is that it can cause overfitting and poor generalization to your test set.\n",
        "\n",
        "We will use the resampling module from Scikit-Learn to randomly replicate samples from the minority class.\n"
      ]
    },
    {
      "cell_type": "code",
      "execution_count": 135,
      "metadata": {},
      "outputs": [],
      "source": [
        "from sklearn.utils import resample"
      ]
    },
    {
      "cell_type": "markdown",
      "metadata": {},
      "source": [
        "<div class=\"alert alert-warning\">\n",
        "\n",
        "##### **⚠ Important Note**\n",
        "Always split into test and train sets BEFORE trying any resampling techniques!  Oversampling before splitting the data can allow the exact same observations to be present in both the test and train sets!  This can allow our model to simply memorize specific data points and cause overfitting.\n",
        "\n",
        "</div>"
      ]
    },
    {
      "cell_type": "markdown",
      "metadata": {},
      "source": [
        "We have already split our data in training and testing sets. So now we proceed to resampling the training set in order to augment the proportion of \"Fraud\" cases. We need to follow four steps:\n",
        "1. Concatenate `X_train` and `y_train` back together.\n",
        "2. Split training data into fraud and not-fraud cases.\n",
        "3. Resample (with replacement) the fraud cases to increase their quantity.\n",
        "4. Concatenate upsampled data with non-fraud data.\n",
        "\n",
        "The code cells bellow do just that:"
      ]
    },
    {
      "cell_type": "code",
      "execution_count": 136,
      "metadata": {},
      "outputs": [
        {
          "data": {
            "text/html": [
              "<div>\n",
              "<style scoped>\n",
              "    .dataframe tbody tr th:only-of-type {\n",
              "        vertical-align: middle;\n",
              "    }\n",
              "\n",
              "    .dataframe tbody tr th {\n",
              "        vertical-align: top;\n",
              "    }\n",
              "\n",
              "    .dataframe thead th {\n",
              "        text-align: right;\n",
              "    }\n",
              "</style>\n",
              "<table border=\"1\" class=\"dataframe\">\n",
              "  <thead>\n",
              "    <tr style=\"text-align: right;\">\n",
              "      <th></th>\n",
              "      <th>Time</th>\n",
              "      <th>V1</th>\n",
              "      <th>V2</th>\n",
              "      <th>V3</th>\n",
              "      <th>V4</th>\n",
              "      <th>V5</th>\n",
              "      <th>V6</th>\n",
              "      <th>V7</th>\n",
              "      <th>V8</th>\n",
              "      <th>V9</th>\n",
              "      <th>...</th>\n",
              "      <th>V21</th>\n",
              "      <th>V22</th>\n",
              "      <th>V23</th>\n",
              "      <th>V24</th>\n",
              "      <th>V25</th>\n",
              "      <th>V26</th>\n",
              "      <th>V27</th>\n",
              "      <th>V28</th>\n",
              "      <th>Amount</th>\n",
              "      <th>Class</th>\n",
              "    </tr>\n",
              "  </thead>\n",
              "  <tbody>\n",
              "    <tr>\n",
              "      <th>12108</th>\n",
              "      <td>162925.0</td>\n",
              "      <td>-0.203339</td>\n",
              "      <td>0.745119</td>\n",
              "      <td>0.017504</td>\n",
              "      <td>0.473495</td>\n",
              "      <td>0.797758</td>\n",
              "      <td>-0.986894</td>\n",
              "      <td>0.664523</td>\n",
              "      <td>-0.127849</td>\n",
              "      <td>-0.052009</td>\n",
              "      <td>...</td>\n",
              "      <td>0.101933</td>\n",
              "      <td>0.495382</td>\n",
              "      <td>-0.201071</td>\n",
              "      <td>-0.108282</td>\n",
              "      <td>-0.426780</td>\n",
              "      <td>0.741579</td>\n",
              "      <td>0.160000</td>\n",
              "      <td>0.217214</td>\n",
              "      <td>10.00</td>\n",
              "      <td>0</td>\n",
              "    </tr>\n",
              "    <tr>\n",
              "      <th>18762</th>\n",
              "      <td>96775.0</td>\n",
              "      <td>2.021803</td>\n",
              "      <td>-0.296038</td>\n",
              "      <td>-1.284361</td>\n",
              "      <td>0.189496</td>\n",
              "      <td>0.264774</td>\n",
              "      <td>-0.008091</td>\n",
              "      <td>-0.252052</td>\n",
              "      <td>-0.079742</td>\n",
              "      <td>2.257106</td>\n",
              "      <td>...</td>\n",
              "      <td>-0.051069</td>\n",
              "      <td>0.306519</td>\n",
              "      <td>0.007369</td>\n",
              "      <td>0.268901</td>\n",
              "      <td>0.205378</td>\n",
              "      <td>0.129936</td>\n",
              "      <td>-0.067867</td>\n",
              "      <td>-0.074949</td>\n",
              "      <td>19.00</td>\n",
              "      <td>0</td>\n",
              "    </tr>\n",
              "    <tr>\n",
              "      <th>27642</th>\n",
              "      <td>65679.0</td>\n",
              "      <td>-0.169869</td>\n",
              "      <td>0.366543</td>\n",
              "      <td>2.447907</td>\n",
              "      <td>0.079963</td>\n",
              "      <td>-0.501969</td>\n",
              "      <td>0.004453</td>\n",
              "      <td>0.503431</td>\n",
              "      <td>-0.422667</td>\n",
              "      <td>0.696724</td>\n",
              "      <td>...</td>\n",
              "      <td>-0.183859</td>\n",
              "      <td>0.103784</td>\n",
              "      <td>-0.066130</td>\n",
              "      <td>0.501324</td>\n",
              "      <td>-0.835188</td>\n",
              "      <td>0.831238</td>\n",
              "      <td>-0.314123</td>\n",
              "      <td>-0.295409</td>\n",
              "      <td>30.00</td>\n",
              "      <td>0</td>\n",
              "    </tr>\n",
              "    <tr>\n",
              "      <th>25697</th>\n",
              "      <td>76650.0</td>\n",
              "      <td>1.257732</td>\n",
              "      <td>0.404766</td>\n",
              "      <td>0.320691</td>\n",
              "      <td>0.686592</td>\n",
              "      <td>-0.311370</td>\n",
              "      <td>-1.057560</td>\n",
              "      <td>0.131736</td>\n",
              "      <td>-0.241928</td>\n",
              "      <td>-0.069273</td>\n",
              "      <td>...</td>\n",
              "      <td>-0.280163</td>\n",
              "      <td>-0.774555</td>\n",
              "      <td>0.121742</td>\n",
              "      <td>0.363754</td>\n",
              "      <td>0.239005</td>\n",
              "      <td>0.092203</td>\n",
              "      <td>-0.018583</td>\n",
              "      <td>0.032183</td>\n",
              "      <td>1.29</td>\n",
              "      <td>0</td>\n",
              "    </tr>\n",
              "    <tr>\n",
              "      <th>8891</th>\n",
              "      <td>20718.0</td>\n",
              "      <td>1.033414</td>\n",
              "      <td>0.039568</td>\n",
              "      <td>1.535109</td>\n",
              "      <td>2.959329</td>\n",
              "      <td>-0.491583</td>\n",
              "      <td>1.085995</td>\n",
              "      <td>-0.745403</td>\n",
              "      <td>0.178111</td>\n",
              "      <td>1.766338</td>\n",
              "      <td>...</td>\n",
              "      <td>-0.268127</td>\n",
              "      <td>-0.281187</td>\n",
              "      <td>-0.160942</td>\n",
              "      <td>-0.470993</td>\n",
              "      <td>0.482591</td>\n",
              "      <td>0.037972</td>\n",
              "      <td>0.030157</td>\n",
              "      <td>0.033921</td>\n",
              "      <td>63.76</td>\n",
              "      <td>0</td>\n",
              "    </tr>\n",
              "  </tbody>\n",
              "</table>\n",
              "<p>5 rows × 31 columns</p>\n",
              "</div>"
            ],
            "text/plain": [
              "           Time        V1        V2        V3        V4        V5        V6   \n",
              "12108  162925.0 -0.203339  0.745119  0.017504  0.473495  0.797758 -0.986894  \\\n",
              "18762   96775.0  2.021803 -0.296038 -1.284361  0.189496  0.264774 -0.008091   \n",
              "27642   65679.0 -0.169869  0.366543  2.447907  0.079963 -0.501969  0.004453   \n",
              "25697   76650.0  1.257732  0.404766  0.320691  0.686592 -0.311370 -1.057560   \n",
              "8891    20718.0  1.033414  0.039568  1.535109  2.959329 -0.491583  1.085995   \n",
              "\n",
              "             V7        V8        V9  ...       V21       V22       V23   \n",
              "12108  0.664523 -0.127849 -0.052009  ...  0.101933  0.495382 -0.201071  \\\n",
              "18762 -0.252052 -0.079742  2.257106  ... -0.051069  0.306519  0.007369   \n",
              "27642  0.503431 -0.422667  0.696724  ... -0.183859  0.103784 -0.066130   \n",
              "25697  0.131736 -0.241928 -0.069273  ... -0.280163 -0.774555  0.121742   \n",
              "8891  -0.745403  0.178111  1.766338  ... -0.268127 -0.281187 -0.160942   \n",
              "\n",
              "            V24       V25       V26       V27       V28  Amount  Class  \n",
              "12108 -0.108282 -0.426780  0.741579  0.160000  0.217214   10.00      0  \n",
              "18762  0.268901  0.205378  0.129936 -0.067867 -0.074949   19.00      0  \n",
              "27642  0.501324 -0.835188  0.831238 -0.314123 -0.295409   30.00      0  \n",
              "25697  0.363754  0.239005  0.092203 -0.018583  0.032183    1.29      0  \n",
              "8891  -0.470993  0.482591  0.037972  0.030157  0.033921   63.76      0  \n",
              "\n",
              "[5 rows x 31 columns]"
            ]
          },
          "execution_count": 136,
          "metadata": {},
          "output_type": "execute_result"
        }
      ],
      "source": [
        "# concatenate our training data back together\n",
        "Xy_train = pd.concat([X_train, y_train], axis=1)\n",
        "Xy_train.head()"
      ]
    },
    {
      "cell_type": "code",
      "execution_count": 137,
      "metadata": {},
      "outputs": [
        {
          "data": {
            "text/plain": [
              "Class\n",
              "0    21321\n",
              "1    21321\n",
              "Name: count, dtype: int64"
            ]
          },
          "execution_count": 137,
          "metadata": {},
          "output_type": "execute_result"
        }
      ],
      "source": [
        "# separate minority and majority classes\n",
        "not_fraud = Xy_train[Xy_train.Class==0]\n",
        "fraud = Xy_train[Xy_train.Class==1]\n",
        "\n",
        "# upsample minority\n",
        "fraud_upsampled = resample(fraud,\n",
        "                          replace=True, # sample with replacement\n",
        "                          n_samples=len(not_fraud), # match number in majority class\n",
        "                          random_state=27) # reproductible results\n",
        "\n",
        "# combine majority and upsampled minority\n",
        "upsampled = pd.concat([not_fraud, fraud_upsampled])\n",
        "\n",
        "# check new class counts\n",
        "upsampled.Class.value_counts()"
      ]
    },
    {
      "cell_type": "markdown",
      "metadata": {},
      "source": [
        "\n",
        "<div class=\"alert alert-info exercise\" >\n",
        "\n",
        "#### 👉**Exercise** (8 min)\n",
        "\n",
        "Train a model (`LogisticRegression` for example) on the `upsampled` data and compute the usual metrics.\n",
        "\n",
        "_Tip_: you need to split `upsampled` back into features `X` and targets `y`. Give them new names so they dont overwrite existing `X` and `y` variables.\n",
        "\n",
        "</div>"
      ]
    },
    {
      "cell_type": "code",
      "execution_count": null,
      "metadata": {},
      "outputs": [],
      "source": [
        "# TODO: Code here"
      ]
    },
    {
      "cell_type": "markdown",
      "metadata": {},
      "source": [
        "\n",
        "<div class=\"alert exercise\" >\n",
        "\n",
        "#### ❓ **Question** \n",
        "Compare the results with what we have seen before. Do we get more precise in detecting frauds? Can we safely detect a larger portion of the fraud cases?\n",
        "\n",
        "</div>\n"
      ]
    },
    {
      "cell_type": "markdown",
      "metadata": {},
      "source": [
        "**Answer here** :\n",
        "\n"
      ]
    },
    {
      "cell_type": "markdown",
      "metadata": {},
      "source": [
        "## 4. Undersampling Majority Class\n",
        "Undersampling can be defined as removing some observations of the majority class.  Undersampling can be a good choice when you have a ton of data -think millions of rows.  But a drawback to undersampling is that we are removing information that may be valuable.\n",
        "\n",
        "We will again use the resampling module from Scikit-Learn to randomly remove samples from the majority class. \n",
        "\n",
        "We'll work the same steps we did for upsampling, though we can reuse some of the variables previously created."
      ]
    },
    {
      "cell_type": "code",
      "execution_count": 146,
      "metadata": {},
      "outputs": [
        {
          "data": {
            "text/plain": [
              "Class\n",
              "0    39\n",
              "1    39\n",
              "Name: count, dtype: int64"
            ]
          },
          "execution_count": 146,
          "metadata": {},
          "output_type": "execute_result"
        }
      ],
      "source": [
        "# still using our separated classes fraud and not_fraud from above\n",
        "\n",
        "# downsample majority\n",
        "not_fraud_downsampled = resample(not_fraud,\n",
        "                                replace = False, # sample without replacement\n",
        "                                n_samples = len(fraud), # match minority n\n",
        "                                random_state = 27) # reproducible results\n",
        "\n",
        "# combine minority and downsampled majority\n",
        "downsampled = pd.concat([not_fraud_downsampled, fraud])\n",
        "\n",
        "# checking counts\n",
        "downsampled.Class.value_counts()"
      ]
    },
    {
      "cell_type": "markdown",
      "metadata": {},
      "source": [
        "\n",
        "<div class=\"alert alert-info exercise\" >\n",
        "\n",
        "#### 👉**Exercise** (5 min)\n",
        "\n",
        "Train a model (`LogisticRegression` for example) on the `downsampled` data and compute the usual metrics.\n",
        "\n",
        "_Tip_: you need to split `downsampled` back into features `X` and targets `y`. Give them new names so they dont overwrite existing `X` and `y` variables.\n",
        "\n",
        "</div>"
      ]
    },
    {
      "cell_type": "code",
      "execution_count": null,
      "metadata": {},
      "outputs": [],
      "source": [
        "# TODO: Code here"
      ]
    },
    {
      "cell_type": "markdown",
      "metadata": {},
      "source": [
        "\n",
        "<div class=\"alert exercise\" >\n",
        "\n",
        "#### ❓ **Question** \n",
        "Compare the results with what we have seen before. Do we get more precise in detecting frauds? Can we safely detect a larger portion of the fraud cases?\n",
        "\n",
        "</div>\n"
      ]
    },
    {
      "cell_type": "markdown",
      "metadata": {},
      "source": [
        "**Answer here** :\n",
        "\n"
      ]
    },
    {
      "cell_type": "markdown",
      "metadata": {},
      "source": [
        "## 5. Generate Synthetic Samples\n",
        "SMOTE or Synthetic Minority Oversampling Technique is a popular algorithm to creates sythetic observations of the minority class.\n",
        "\n",
        "We are going to use the implementation from the \n",
        "[`imblearn` package](https://imbalanced-learn.org/stable/references/generated/imblearn.over_sampling.SMOTE.html).\n",
        "First we need to create a `SMOTE` instance. "
      ]
    },
    {
      "cell_type": "code",
      "execution_count": 10,
      "metadata": {},
      "outputs": [],
      "source": [
        "from imblearn.over_sampling import SMOTE\n",
        "\n",
        "sm = SMOTE(sampling_strategy=1.0, random_state=27)"
      ]
    },
    {
      "cell_type": "markdown",
      "metadata": {},
      "source": [
        "To do the sample generation, we call `.fit_resample` and give our original training data as arguments:"
      ]
    },
    {
      "cell_type": "code",
      "execution_count": null,
      "metadata": {},
      "outputs": [],
      "source": [
        "\n",
        "X_smote, y_smote = sm.fit_resample(X_train, y_train)"
      ]
    },
    {
      "cell_type": "markdown",
      "metadata": {},
      "source": [
        "The generated dataset will have a balanced distribution of both classes:"
      ]
    },
    {
      "cell_type": "code",
      "execution_count": 11,
      "metadata": {},
      "outputs": [
        {
          "name": "stdout",
          "output_type": "stream",
          "text": [
            "Class\n",
            "0    21321\n",
            "1    21321\n",
            "Name: count, dtype: int64\n"
          ]
        }
      ],
      "source": [
        "print(y_smote.value_counts())"
      ]
    },
    {
      "cell_type": "markdown",
      "metadata": {},
      "source": [
        "\n",
        "<div class=\"alert alert-info exercise\" >\n",
        "\n",
        "#### 👉**Exercise** (5 min)\n",
        "\n",
        "Train a model (`LogisticRegression` for example) on the `SMOTE` data and compute the usual metrics.\n",
        "\n",
        "</div>"
      ]
    },
    {
      "cell_type": "code",
      "execution_count": null,
      "metadata": {},
      "outputs": [],
      "source": [
        "# TODO: Code here"
      ]
    },
    {
      "cell_type": "markdown",
      "metadata": {},
      "source": [
        "\n",
        "<div class=\"alert exercise\" >\n",
        "\n",
        "#### ❓ **Question** \n",
        "Compare the results with what we have seen before. Do we get more precise in detecting frauds? Can we safely detect a larger portion of the fraud cases?\n",
        "\n",
        "</div>\n"
      ]
    },
    {
      "cell_type": "markdown",
      "metadata": {},
      "source": [
        "**Answer here** :\n",
        "\n"
      ]
    },
    {
      "cell_type": "markdown",
      "metadata": {},
      "source": [
        "# Conclusion\n",
        "\n",
        "We covered 5 different methods for dealing with imbalanced datasets:\n",
        "1.  Change the performance metric\n",
        "2.  Oversampling minority class\n",
        "3.  Undersampling majority class\n",
        "4.  Change the algorithm\n",
        "5.  Generate synthetic samples\n",
        "\n",
        "These are just some of the many possible methods to try when dealing with imbalanced datasets, and not an exhaustive list.  Some others methods to consider are collecting more data or choosing different resampling ratios - you don't have to have exactly a 1:1 ratio!  You should always try several approaches and then decide which is best for your problem."
      ]
    }
  ],
  "metadata": {
    "kernelspec": {
      "display_name": "ml-latest",
      "language": "python",
      "name": "python3"
    },
    "language_info": {
      "codemirror_mode": {
        "name": "ipython",
        "version": 3
      },
      "file_extension": ".py",
      "mimetype": "text/x-python",
      "name": "python",
      "nbconvert_exporter": "python",
      "pygments_lexer": "ipython3",
      "version": "3.10.11"
    }
  },
  "nbformat": 4,
  "nbformat_minor": 2
}
