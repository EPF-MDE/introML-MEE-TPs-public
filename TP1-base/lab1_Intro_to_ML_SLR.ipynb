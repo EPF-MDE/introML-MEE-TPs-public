{
  "cells": [
    {
      "cell_type": "markdown",
      "metadata": {
        "id": "eGFh78hFwXOF"
      },
      "source": [
        "<img style=\"float: left; padding-right: 10px; width: 45px\" src=\"https://upload.wikimedia.org/wikipedia/fr/b/b1/Logo_EPF.png?raw=true\"> \n",
        "\n",
        "**Introduction to Machine Learning - P2025: Energy & Environment**\n",
        "# Lab 1:  Simple Linear Regression\n",
        "*Credits*: Adapted from MDE's \"Intro to ML\" course by Y. Idrissi and I. Chafai.\n",
        "\n",
        "**First name:**\n",
        "\n",
        "**Last name:**\n",
        "\n",
        "**Group:**\n",
        "\n",
        "\n",
        "---"
      ]
    },
    {
      "cell_type": "markdown",
      "metadata": {},
      "source": [
        "# Abstract\n",
        "Linear regression and its many extensions are a workhorse of the statistics and data science community, both in application and as a reference point for other models. Most of the major concepts in machine learning can be and often are discussed in terms of various linear regression models. Thus, this section will introduce you to building and fitting linear regression models and some of the process behind it, so that you can:\n",
        " 1) fit models to data you encounter \n",
        " 2) experiment with different kinds of linear regression and observe their effects \n",
        " 3) see some of the technology that makes regression models work.\n",
        "\n"
      ]
    },
    {
      "cell_type": "markdown",
      "metadata": {
        "id": "tMWrvErdwXOK"
      },
      "source": [
        "# Learning Goals\n",
        "\n",
        "Overall description and goal for the lab.\n",
        "\n",
        "By the end of this lab, you should be able to:\n",
        "* Understand array reshaping\n",
        "* Review how to make plots\n",
        "* Feel comfortable with simple linear regression\n",
        "\n"
      ]
    },
    {
      "cell_type": "markdown",
      "metadata": {
        "id": "jbVRg2iCwXOK"
      },
      "source": [
        "# Table of Contents\n",
        "\n",
        "1. Simple linear regression on toy data\n",
        "2. Linear regression with `sklearn`\n",
        "4. Bonus: $k$-nearest neighbors\n"
      ]
    },
    {
      "cell_type": "code",
      "execution_count": 2,
      "metadata": {
        "id": "BrKuKl_0wXOL"
      },
      "outputs": [],
      "source": [
        "# import the necessary libraries\n",
        "import warnings\n",
        "warnings.filterwarnings('ignore')\n",
        "%matplotlib inline\n",
        "import numpy as np\n",
        "import scipy as sp\n",
        "import matplotlib as mpl\n",
        "import matplotlib.cm as cm\n",
        "import matplotlib.pyplot as plt\n",
        "import pandas as pd\n",
        "import time\n",
        "pd.set_option('display.width', 500)\n",
        "pd.set_option('display.max_columns', 100)\n",
        "pd.set_option('display.notebook_repr_html', True)\n",
        "import seaborn as sns"
      ]
    },
    {
      "cell_type": "markdown",
      "metadata": {
        "id": "WK80QVk7wXOL"
      },
      "source": [
        "# Simple Linear regression with a toy dataset\n",
        "We first examine a toy problem, focusing our efforts on fitting a linear model to a small dataset with three observations.  Each observation consists of one predictor $x_i$ and one response $y_i$ for $i = 1, 2, 3$,\n",
        "\n",
        "\\begin{align*}\n",
        "(x , y) = \\{(x_1, y_1), (x_2, y_2), (x_3, y_3)\\}.\n",
        "\\end{align*}\n",
        "\n",
        "To be very concrete, let's set the values of the predictors and responses.\n",
        "\n",
        "\\begin{equation*}\n",
        "(x , y) = \\{(1, 2), (2, 3), (3, 6)\\}\n",
        "\\end{equation*}\n",
        "\n",
        "There is no line of the form $\\beta_0 + \\beta_1 x = y$ that passes through all three observations, since the data are not collinear. Thus our aim is to find the line that best fits these observations in the *least-squares sense*, as discussed in lecture."
      ]
    },
    {
      "cell_type": "markdown",
      "metadata": {
        "id": "ubfUbYUuwXOM"
      },
      "source": [
        "<div class=\"alert alert-info\">\n",
        "\n",
        "### 👉 Exercise (10 min)\n",
        "\n",
        "* Make two numpy arrays `x_train` and `y_train`, containing the $(x,y)$ data points.\n",
        "* Check the dimensions of these arrays with `.shape`.\n",
        "* Make a nice scatterplot of the data using pandas + seaborn:\n",
        "  1. Create a `pd.DataFrame` with both columns, giving each of them a title.\n",
        "  2. Make a scatter plot using the `sns.scatterplot` \n",
        "  3. Give a title to the plot using the function `plt.title` (for instance `plt.title('my scatterplot')`)\n",
        "\n",
        "</div>"
      ]
    },
    {
      "cell_type": "code",
      "execution_count": null,
      "metadata": {
        "id": "urct4kHfwXOM"
      },
      "outputs": [],
      "source": [
        "# TODO: Make two numpy arrays out of this data, x_train and y_train\n",
        "x_train = \n",
        "y_train = \n",
        "type(x_train)"
      ]
    },
    {
      "cell_type": "code",
      "execution_count": null,
      "metadata": {
        "id": "4LAdFFQywXON"
      },
      "outputs": [],
      "source": [
        "# TODO: Check the dimensions of these arrays\n"
      ]
    },
    {
      "cell_type": "code",
      "execution_count": null,
      "metadata": {
        "id": "mYaqvT5vwXOP"
      },
      "outputs": [],
      "source": [
        "# TODO: Make a simple scatterplot\n"
      ]
    },
    {
      "cell_type": "markdown",
      "metadata": {
        "id": "eLISRnvSwXOQ"
      },
      "source": [
        "###  Building a model from scratch\n",
        "In this part, we will solve the equations for simple linear regression and find the best fit solution to our toy problem.\n"
      ]
    },
    {
      "cell_type": "markdown",
      "metadata": {
        "id": "H2FpbSnGwXOQ"
      },
      "source": [
        "\n",
        "#### Analytic solution\n",
        "Linear regression is special among the models we study because it can be solved explicitly. While most other models (and even some advanced versions of linear regression) must be solved iteratively, linear regression has an analytic solution, where you can simply plug in the data.\n",
        "\n",
        "For the single predictor case it is:\n",
        "$$\n",
        "    \\begin{align}\n",
        "      \\beta_1 &= \\frac{\\sum_{i=1}^n{(x_i-\\bar{x})(y_i-\\bar{y})}}{\\sum_{i=1}^n{(x_i-\\bar{x})^2}}\\\\\n",
        "      \\beta_0 &= \\bar{y} - \\beta_1\\bar{x}\\\n",
        "    \\end{align}\n",
        "$$\n",
        "    \n",
        "Where $\\bar{y}$ and $\\bar{x}$ are the mean of the y values and the mean of the x values, respectively.\n",
        "\n",
        "From the re-aranged second equation we can see that the best-fit line  passes through $(\\bar{x},\\bar{y})$, the center of mass of the data (i.e. the average value, which you can compute using `np.mean`)\n",
        "\n",
        "From any of the first equations, we can see that the slope of the line has to do with whether or not an x value that is above/below the center of mass is typically paired with a y value that is likewise above/below, or typically paired with one that is opposite.\n",
        "\n",
        "The snippets of code below implement the linear regression equations on the observed predictors and responses, which we'll call the training data set.  Let's walk through the code in the next exercise."
      ]
    },
    {
      "cell_type": "markdown",
      "metadata": {
        "id": "M7g8Q2dZwXOR"
      },
      "source": [
        "<div class=\"alert alert-info\">\n",
        "<div class=\"exercise\"><b>\n",
        "\n",
        "#### 👉 Exercise (8 min)\n",
        "\n",
        "</b></div>\n",
        "\n",
        "Complete the code sections bellow in order to implement equations (1) and (2).\n",
        "\n",
        "</div>"
      ]
    },
    {
      "cell_type": "code",
      "execution_count": null,
      "metadata": {
        "id": "GoPFhy2awXOS"
      },
      "outputs": [],
      "source": [
        "# TODO: first, compute means y_bar and x_bar\n",
        "\n",
        "\n",
        "\n",
        "# TODO: build the two terms numerator and denominator from the formula above\n",
        "\n",
        "\n",
        "\n",
        "# TODO: check shapes of numerator and denominator and comment the result\n"
      ]
    },
    {
      "cell_type": "markdown",
      "metadata": {
        "id": "wBsl6RYNwXOS"
      },
      "source": [
        "<div class=\"alert alert-primary\">\n",
        "\n",
        "##### ❓ Why printing the shape returns empty brackets `( ) ( )`? \n",
        "\n",
        "**Answer here :**\n",
        "\n",
        "\n",
        "</div>"
      ]
    },
    {
      "cell_type": "code",
      "execution_count": null,
      "metadata": {
        "id": "ABTC0Xl7wXOT"
      },
      "outputs": [],
      "source": [
        "# TODO: compute slope beta_1\n",
        "beta_1 = \n",
        "\n",
        "# TODO: compute intercept beta_0\n",
        "beta_0 = \n",
        "\n",
        "print(\"The best-fit line is {0:3.2f} + {1:3.2f} * x\".format(beta_0, beta_1))"
      ]
    },
    {
      "cell_type": "markdown",
      "metadata": {
        "id": "SM5LLOi5wXOT"
      },
      "source": [
        "<div class=\"alert alert-info\">\n",
        "<div class=\"exercise\"><b>\n",
        "\n",
        "#### 👉Exercise (10 min)\n",
        "\n",
        "</b></div>\n",
        "\n",
        "Turn the code from the above cells into a function called `simple_linear_regression_fit`, that inputs the training data and returns `beta0` and `beta1`.\n",
        "\n",
        "To do this, complete the function code as needed, so that the training data becomes the input and the betas become the output.\n",
        "\n",
        "Check your function by calling it with the training data from above and printing out the beta values.\n",
        "\n",
        "</div>"
      ]
    },
    {
      "cell_type": "code",
      "execution_count": 8,
      "metadata": {
        "id": "9fAohzvTwXOT"
      },
      "outputs": [],
      "source": [
        "# TODO: Your code here\n",
        "def simple_linear_regression_fit(x_train: np.ndarray, y_train: np.ndarray) -> np.ndarray:\n",
        "    \"\"\"\n",
        "    Inputs:\n",
        "    x_train: a (N,) or (N by 1) array holding the values of the predictor variable,\n",
        "             where N is the number of observations (samples).\n",
        "    y_train: a (N,) or (N by 1) array holding the values of the response variable,\n",
        "             where N is the number of observations (samples).\n",
        "    Returns:\n",
        "    beta_vals:  a (num_features by 1) array holding the intercept and slope coeficients\n",
        "    \"\"\"\n",
        "\n",
        "    # first, compute means\n",
        "\n",
        "    # build the two terms\n",
        "\n",
        "    # slope beta_1\n",
        "\n",
        "    # intercept beta_0\n",
        "    \n",
        "    return"
      ]
    },
    {
      "cell_type": "markdown",
      "metadata": {
        "id": "tpaUhEgawXOU"
      },
      "source": [
        "* Let's run this function and see the coefficients"
      ]
    },
    {
      "cell_type": "code",
      "execution_count": 25,
      "metadata": {
        "id": "_5nSG6CFwXOU"
      },
      "outputs": [
        {
          "name": "stdout",
          "output_type": "stream",
          "text": [
            "The best-fit line is 1.933333 + 2.400000 * x\n"
          ]
        }
      ],
      "source": [
        "# First we create some sample data to test\n",
        "x_train = np.array([1 ,2, 3])\n",
        "# Y values are roughly the triple of x plus one \n",
        "y_train = np.array([4.5, 6.4, 9.3])\n",
        "\n",
        "betas = simple_linear_regression_fit(x_train, y_train)\n",
        "\n",
        "beta_0 = betas[0]\n",
        "beta_1 = betas[1]\n",
        "\n",
        "print(\"The best-fit line is {0:8.6f} + {1:8.6f} * x\".format(beta_0, beta_1))"
      ]
    },
    {
      "cell_type": "markdown",
      "metadata": {},
      "source": [
        "<div class=\"alert alert-primary\">\n",
        "\n",
        "##### Sanity check ❓ Do the values of `beta0` and `beta1` seem reasonable?\n",
        "\n",
        "</div>"
      ]
    },
    {
      "cell_type": "markdown",
      "metadata": {
        "id": "AU_8bg7YwXOV"
      },
      "source": [
        "<div class=\"alert alert-info\">\n",
        "\n",
        "<div class=\"exercise\"><b>\n",
        "\n",
        "#### 👉 Exercise (5 min)\n",
        "\n",
        "</b></div>\n",
        "\n",
        "* Plot the training data using a scatter plot (`sns.scatterplot`).\n",
        "* Calculate the y values predicted by your regression with `beta0` and `beta1`\n",
        "* Then plot the best fit line together with the training data. The simplest way to it is to use `plt.plot` like so:\n",
        "```python\n",
        "# plot the line \n",
        "plt.plot(x_train, best_fit_y_values, label='best fit line')\n",
        "# show legend box\n",
        "plt.legend()\n",
        "```\n",
        "\n",
        "\n",
        "</div>"
      ]
    },
    {
      "cell_type": "code",
      "execution_count": null,
      "metadata": {
        "id": "m9F_N4_CwXOV"
      },
      "outputs": [],
      "source": [
        "# TODO: Complete the code bellow\n",
        "# plot the data with a scatter plot\n",
        "sns.scatterplot(...)\n",
        "# calculate the y values with y = beta_0 + beta_1 * x\n",
        "best_fit_y_values = ...\n",
        "# plot the line \n",
        "plt.plot(...)\n",
        "plt.legend()"
      ]
    },
    {
      "cell_type": "markdown",
      "metadata": {
        "id": "4qkAWd7iwXOX"
      },
      "source": [
        "### Building a model with `sklearn`\n",
        "\n",
        "Now that we can concretely fit the training data from scratch, let's learn a `python` package to do it all for us: [**Scikit-learn (`sklearn`)**](http://scikit-learn.org/stable/modules/generated/sklearn.linear_model.LinearRegression.html).\n",
        "\n",
        "<img style=\"display: block; margin-left: auto; margin-right: auto; width: 30%;\" src=\"https://upload.wikimedia.org/wikipedia/commons/0/05/Scikit_learn_logo_small.svg\"></img>\n",
        "\n",
        "Our goal is to show how to implement simple linear regression with these packages.  For an important sanity check, we compare the $\\beta$ values from `sklearn` to the $\\beta$ values that we found from above with our own implementation."
      ]
    },
    {
      "cell_type": "markdown",
      "metadata": {
        "id": "X_IS8KJfwXOa"
      },
      "source": [
        "Now let's turn our attention to the `sklearn` library."
      ]
    },
    {
      "cell_type": "code",
      "execution_count": 28,
      "metadata": {
        "id": "w_646N2vwXOb"
      },
      "outputs": [],
      "source": [
        "# Importing the module with linear models\n",
        "from sklearn import linear_model\n",
        "\n",
        "# build the least squares model (estimator)\n",
        "toyregr = linear_model.LinearRegression()"
      ]
    },
    {
      "cell_type": "markdown",
      "metadata": {},
      "source": [
        "<div class=\"aler alert-warning\">\n",
        "\n",
        "#### **⚠ Attention to the shapes**\n",
        "\n",
        "`sklearn` is ready to take in multiple predictor variables. This means the input data `X` must resemble a table (i.e. a 2D array or a DataFrame).\n",
        "\n",
        "Until now, the input data X has as single dimension. To add a second one, you can use numpy's method `.reshape`:\n",
        "\n",
        "```python\n",
        "x_train  = x_train.reshape([-1, 1])\n",
        "```\n",
        "\n",
        "</div>"
      ]
    },
    {
      "cell_type": "markdown",
      "metadata": {},
      "source": [
        "<div class=\"aler alert-info\">\n",
        "\n",
        "#### 👉 Exercise (1min)\n",
        "Reshape `x_train` so that is becomes a 2D array. Check you get the right shape bry printing `.shape` at the end.\n",
        "\n",
        "</div>"
      ]
    },
    {
      "cell_type": "code",
      "execution_count": null,
      "metadata": {},
      "outputs": [],
      "source": [
        "# TODO reshape x_train so its shape gets to be (3, 1) \n"
      ]
    },
    {
      "cell_type": "markdown",
      "metadata": {},
      "source": [
        "Now data is ready to be used in the model:"
      ]
    },
    {
      "cell_type": "code",
      "execution_count": 31,
      "metadata": {
        "id": "HZC055TXwXOb"
      },
      "outputs": [
        {
          "name": "stdout",
          "output_type": "stream",
          "text": [
            "The regression coefficients from the sklearn package are: beta_0 = 1.933333 and beta_1 = 2.400000\n"
          ]
        }
      ],
      "source": [
        "# train the model by calling fit on the estimator object 'toyregr'\n",
        "toyregr.fit(x_train, y_train)\n",
        "\n",
        "# pull the beta parameters out from the estimator object 'toyregr'\n",
        "beta0_skl = toyregr.intercept_\n",
        "beta1_skl = toyregr.coef_[0]\n",
        "\n",
        "print(\"The regression coefficients from the sklearn package are: beta_0 = {0:8.6f} and beta_1 = {1:8.6f}\".format(beta0_skl, beta1_skl))"
      ]
    },
    {
      "cell_type": "markdown",
      "metadata": {},
      "source": [
        "<div class=\"alert alert-primary\">\n",
        "\n",
        "#### Sanity check ❓ Do the values of `beta0` and `beta1` match the ones you found before?\n",
        "\n",
        "</div>"
      ]
    },
    {
      "cell_type": "markdown",
      "metadata": {
        "id": "ZWWQMamKwXOc"
      },
      "source": [
        "We should feel pretty good about ourselves now, and we're ready to move on to a real problem!"
      ]
    },
    {
      "cell_type": "markdown",
      "metadata": {
        "id": "T49yRMDJwXOc"
      },
      "source": [
        "# The shape of things in `scikit-learn`\n",
        "Before diving right in to a \"real\" problem, we really ought to discuss more of the details of `sklearn`.  We do this now.  Along the way, we'll import a real-world dataset.\n",
        "\n",
        "`Scikit-learn` is the main `python` machine learning library. It consists of many learners which can learn models from data, as well as a lot of utility functions such as `train_test_split`. It can be used in `python` by the incantation `import sklearn`.\n",
        "\n",
        "In scikit-learn, an **estimator** is a Python object that implements the methods `fit(X, y)` and `predict(T)`\n",
        "\n",
        "Let's see the structure of `scikit-learn` needed to make these fits. `.fit` always takes two arguments <a href=\"#footnote-1\">[1]</a>:\n",
        "```python\n",
        "  estimator.fit(Xtrain, ytrain)\n",
        "```\n",
        "We will consider two estimators in this lab: `LinearRegression` and (Bonus)`KNeighborsRegressor`.\n",
        "\n",
        "Critically, `Xtrain` must be in the form of an *array of arrays* (or a 2x2 array) with the inner arrays each corresponding to one sample, and whose elements correspond to the predictor values (also known as **feature** values) for that sample (visuals coming in a moment).\n",
        "\n",
        "`ytrain` on the other hand is a simple array of responses.  These are continuous for regression problems.\n",
        "\n",
        "\n",
        "---\n",
        "<p id=\"footnote-1\"><small>[1] An exception to this rule is when using unsupervised estimators. In that case, the second argument is not necessary.</small></span>"
      ]
    },
    {
      "cell_type": "markdown",
      "metadata": {},
      "source": [
        "# Regression on a real-world automobile dataset\n",
        "\n",
        "You will work on a dataset about cars that you have available as a `csv` file. We can read that into our notebook using `pandas`.\n",
        "\n",
        "See a description of the dataset here: https://www.rdocumentation.org/packages/datasets/versions/3.6.2/topics/mtcars"
      ]
    },
    {
      "cell_type": "code",
      "execution_count": 36,
      "metadata": {
        "id": "zl0vfbykwXOd"
      },
      "outputs": [
        {
          "data": {
            "text/html": [
              "<div>\n",
              "<style scoped>\n",
              "    .dataframe tbody tr th:only-of-type {\n",
              "        vertical-align: middle;\n",
              "    }\n",
              "\n",
              "    .dataframe tbody tr th {\n",
              "        vertical-align: top;\n",
              "    }\n",
              "\n",
              "    .dataframe thead th {\n",
              "        text-align: right;\n",
              "    }\n",
              "</style>\n",
              "<table border=\"1\" class=\"dataframe\">\n",
              "  <thead>\n",
              "    <tr style=\"text-align: right;\">\n",
              "      <th></th>\n",
              "      <th>model</th>\n",
              "      <th>mpg</th>\n",
              "      <th>cyl</th>\n",
              "      <th>disp</th>\n",
              "      <th>hp</th>\n",
              "      <th>drat</th>\n",
              "      <th>wt</th>\n",
              "      <th>qsec</th>\n",
              "      <th>vs</th>\n",
              "      <th>am</th>\n",
              "      <th>gear</th>\n",
              "      <th>carb</th>\n",
              "    </tr>\n",
              "  </thead>\n",
              "  <tbody>\n",
              "    <tr>\n",
              "      <th>0</th>\n",
              "      <td>Mazda RX4</td>\n",
              "      <td>21.0</td>\n",
              "      <td>6</td>\n",
              "      <td>160.0</td>\n",
              "      <td>110</td>\n",
              "      <td>3.90</td>\n",
              "      <td>2.620</td>\n",
              "      <td>16.46</td>\n",
              "      <td>0</td>\n",
              "      <td>1</td>\n",
              "      <td>4</td>\n",
              "      <td>4</td>\n",
              "    </tr>\n",
              "    <tr>\n",
              "      <th>1</th>\n",
              "      <td>Mazda RX4 Wag</td>\n",
              "      <td>21.0</td>\n",
              "      <td>6</td>\n",
              "      <td>160.0</td>\n",
              "      <td>110</td>\n",
              "      <td>3.90</td>\n",
              "      <td>2.875</td>\n",
              "      <td>17.02</td>\n",
              "      <td>0</td>\n",
              "      <td>1</td>\n",
              "      <td>4</td>\n",
              "      <td>4</td>\n",
              "    </tr>\n",
              "    <tr>\n",
              "      <th>2</th>\n",
              "      <td>Datsun 710</td>\n",
              "      <td>22.8</td>\n",
              "      <td>4</td>\n",
              "      <td>108.0</td>\n",
              "      <td>93</td>\n",
              "      <td>3.85</td>\n",
              "      <td>2.320</td>\n",
              "      <td>18.61</td>\n",
              "      <td>1</td>\n",
              "      <td>1</td>\n",
              "      <td>4</td>\n",
              "      <td>1</td>\n",
              "    </tr>\n",
              "    <tr>\n",
              "      <th>3</th>\n",
              "      <td>Hornet 4 Drive</td>\n",
              "      <td>21.4</td>\n",
              "      <td>6</td>\n",
              "      <td>258.0</td>\n",
              "      <td>110</td>\n",
              "      <td>3.08</td>\n",
              "      <td>3.215</td>\n",
              "      <td>19.44</td>\n",
              "      <td>1</td>\n",
              "      <td>0</td>\n",
              "      <td>3</td>\n",
              "      <td>1</td>\n",
              "    </tr>\n",
              "    <tr>\n",
              "      <th>4</th>\n",
              "      <td>Hornet Sportabout</td>\n",
              "      <td>18.7</td>\n",
              "      <td>8</td>\n",
              "      <td>360.0</td>\n",
              "      <td>175</td>\n",
              "      <td>3.15</td>\n",
              "      <td>3.440</td>\n",
              "      <td>17.02</td>\n",
              "      <td>0</td>\n",
              "      <td>0</td>\n",
              "      <td>3</td>\n",
              "      <td>2</td>\n",
              "    </tr>\n",
              "  </tbody>\n",
              "</table>\n",
              "</div>"
            ],
            "text/plain": [
              "               model   mpg  cyl   disp   hp  drat     wt   qsec  vs  am  gear  carb\n",
              "0          Mazda RX4  21.0    6  160.0  110  3.90  2.620  16.46   0   1     4     4\n",
              "1      Mazda RX4 Wag  21.0    6  160.0  110  3.90  2.875  17.02   0   1     4     4\n",
              "2         Datsun 710  22.8    4  108.0   93  3.85  2.320  18.61   1   1     4     1\n",
              "3     Hornet 4 Drive  21.4    6  258.0  110  3.08  3.215  19.44   1   0     3     1\n",
              "4  Hornet Sportabout  18.7    8  360.0  175  3.15  3.440  17.02   0   0     3     2"
            ]
          },
          "metadata": {},
          "output_type": "display_data"
        },
        {
          "name": "stdout",
          "output_type": "stream",
          "text": [
            "<class 'pandas.core.frame.DataFrame'>\n",
            "RangeIndex: 32 entries, 0 to 31\n",
            "Data columns (total 12 columns):\n",
            " #   Column  Non-Null Count  Dtype  \n",
            "---  ------  --------------  -----  \n",
            " 0   model   32 non-null     object \n",
            " 1   mpg     32 non-null     float64\n",
            " 2   cyl     32 non-null     int64  \n",
            " 3   disp    32 non-null     float64\n",
            " 4   hp      32 non-null     int64  \n",
            " 5   drat    32 non-null     float64\n",
            " 6   wt      32 non-null     float64\n",
            " 7   qsec    32 non-null     float64\n",
            " 8   vs      32 non-null     int64  \n",
            " 9   am      32 non-null     int64  \n",
            " 10  gear    32 non-null     int64  \n",
            " 11  carb    32 non-null     int64  \n",
            "dtypes: float64(5), int64(6), object(1)\n",
            "memory usage: 3.1+ KB\n"
          ]
        }
      ],
      "source": [
        "import pandas as pd\n",
        "\n",
        "#load mtcars\n",
        "dfcars = pd.read_csv(\"mtcars.csv\")\n",
        "display(dfcars.head())\n",
        "dfcars.info()"
      ]
    },
    {
      "cell_type": "markdown",
      "metadata": {
        "id": "IApn4wWRwXOd"
      },
      "source": [
        "Next, let's split the dataset into a training set and test set."
      ]
    },
    {
      "cell_type": "code",
      "execution_count": 37,
      "metadata": {
        "id": "lQcEmXWkwXOd"
      },
      "outputs": [],
      "source": [
        "# split into training set and testing set\n",
        "from sklearn.model_selection import train_test_split\n",
        "\n",
        "# set random_state to get the same split every time\n",
        "traindf, testdf = train_test_split(dfcars, test_size=0.2, random_state=42)"
      ]
    },
    {
      "cell_type": "markdown",
      "metadata": {},
      "source": [
        "##### More about reshaping your data"
      ]
    },
    {
      "cell_type": "code",
      "execution_count": 38,
      "metadata": {
        "id": "Js7QLjOrwXOd"
      },
      "outputs": [
        {
          "name": "stdout",
          "output_type": "stream",
          "text": [
            "Shape of full dataset is: (32, 12)\n",
            "Shape of training dataset is: (25, 12)\n",
            "Shape of test dataset is: (7, 12)\n"
          ]
        }
      ],
      "source": [
        "# testing set is around 20% of the total data; training set is around 80%\n",
        "print(\"Shape of full dataset is: {0}\".format(dfcars.shape))\n",
        "print(\"Shape of training dataset is: {0}\".format(traindf.shape))\n",
        "print(\"Shape of test dataset is: {0}\".format(testdf.shape))"
      ]
    },
    {
      "cell_type": "markdown",
      "metadata": {
        "id": "a6USiVsTwXOe"
      },
      "source": [
        "Now we have training and test data.  We still need to select a predictor and a response from this dataset.  Keep in mind that we need to choose the predictor and response from both the training and test set.  You will do this in the exercises below.  However, we provide some starter code for you to get things going."
      ]
    },
    {
      "cell_type": "code",
      "execution_count": null,
      "metadata": {
        "id": "s605rvKYwXOe"
      },
      "outputs": [],
      "source": [
        "# Extract the response variable that we're interested in: mileage per gallon (mpg)\n",
        "y_train = traindf.mpg"
      ]
    },
    {
      "cell_type": "markdown",
      "metadata": {
        "id": "BIarzv_8wXOe"
      },
      "source": [
        "Notice the shape of `y_train`."
      ]
    },
    {
      "cell_type": "code",
      "execution_count": null,
      "metadata": {
        "id": "19CEjbHTwXOe"
      },
      "outputs": [],
      "source": [
        "np.shape(y_train)"
      ]
    },
    {
      "cell_type": "markdown",
      "metadata": {
        "id": "C7IY_mTRwXOe"
      },
      "source": [
        "Another way to see the shape is to use the shape method."
      ]
    },
    {
      "cell_type": "code",
      "execution_count": null,
      "metadata": {
        "id": "EM0GVgikwXOf"
      },
      "outputs": [],
      "source": [
        "y_train.shape"
      ]
    },
    {
      "cell_type": "markdown",
      "metadata": {
        "id": "G8x9Nj5lwXOf"
      },
      "source": [
        "This is *not* an \"array of arrays\".  That's okay!  Remember, `sklearn` requires an array of arrays only for the inpuy array `xtrain`!  You will have to pay close attention to this in the exercises later.\n",
        "\n",
        "For now, let's discuss two ways out of this debacle.  All we'll do is get `y_train` to be an array of arrays.  This doesn't hurt anything because `sklearn` doesn't care too much about the shape of `y_train`."
      ]
    },
    {
      "cell_type": "markdown",
      "metadata": {
        "id": "T7wrDHvYwXOf"
      },
      "source": [
        "First, let's reshape `y_train` to be an array of arrays using the `reshape` method.  We want the first dimension of `y_train` to be size $25$ and the second dimension to be size $1$."
      ]
    },
    {
      "cell_type": "code",
      "execution_count": null,
      "metadata": {
        "id": "VrkBmanowXOf"
      },
      "outputs": [],
      "source": [
        "y_train_reshape = y_train.values.reshape(y_train.shape[0], 1)"
      ]
    },
    {
      "cell_type": "code",
      "execution_count": null,
      "metadata": {
        "id": "8mmykx_gwXOf"
      },
      "outputs": [],
      "source": [
        "y_train_reshape.shape"
      ]
    },
    {
      "cell_type": "markdown",
      "metadata": {
        "id": "9KgYFNhhwXOf"
      },
      "source": [
        "Notice that `y_train.shape[0]` gives the size of the first dimension.\n",
        "\n",
        "There's an even easier way to get the correct shape right from the beginning."
      ]
    },
    {
      "cell_type": "code",
      "execution_count": null,
      "metadata": {
        "id": "qR8ugsamwXOg"
      },
      "outputs": [],
      "source": [
        "y_train_reshape = traindf[['mpg']]"
      ]
    },
    {
      "cell_type": "code",
      "execution_count": null,
      "metadata": {
        "id": "2_FG34qKwXOg"
      },
      "outputs": [],
      "source": [
        "y_train_reshape.shape"
      ]
    },
    {
      "cell_type": "markdown",
      "metadata": {
        "id": "rqaUzEg8wXOg"
      },
      "source": [
        "Finally, there is a nice shortcut to reshaping an array.  `numpy` can infer a dimension based on the other dimensions specified."
      ]
    },
    {
      "cell_type": "code",
      "execution_count": null,
      "metadata": {
        "id": "AR9FyyMNwXOg"
      },
      "outputs": [],
      "source": [
        "y_train_reshape = y_train.values.reshape(-1,1)\n",
        "y_train_reshape.shape"
      ]
    },
    {
      "cell_type": "markdown",
      "metadata": {
        "id": "Wk4878EQwXOg"
      },
      "source": [
        "In this case, we said the second dimension should be size $1$.  Since the requirement of the `reshape()` method is that the requested dimensions be compatible, `numpy` decides the the first dimension must be size $25$.\n",
        "\n",
        "\n",
        "<div class=\"alert alert-primary\">\n",
        "\n",
        "**Comprehension check** ❓ What would the `.shape` return if we did `y_train.values.reshape(-1,5)`?\n",
        "\n",
        "</div>\n",
        "Okay, enough of that.  The whole reason we went through that whole process was to show you how to reshape your data into the correct format.\n",
        "\n",
        "<div class=\"alert alert-warning\">\n",
        "\n",
        "**IMPORTANT:** Remember that your response variable `ytrain` can be a vector but your predictor variable `xtrain` ***must*** be a 2D array!\n",
        "\n",
        "</div>"
      ]
    },
    {
      "cell_type": "markdown",
      "metadata": {
        "id": "VCUHoK7ZwXOh"
      },
      "source": [
        "### Implementing linear regression with `sklearn`\n",
        "We will now use `sklearn` to predict automobile mileage per gallon (mpg) and evaluate these predictions. We already loaded the data and split them into a training set and a test set."
      ]
    },
    {
      "cell_type": "markdown",
      "metadata": {
        "id": "I3fMdtlEwXOh"
      },
      "source": [
        "We need to choose the variables that we think will be good predictors for the dependent variable `mpg`. "
      ]
    },
    {
      "cell_type": "markdown",
      "metadata": {
        "id": "2Omf2KNawXOh"
      },
      "source": [
        "<div class=\"alert alert-info\">\n",
        "<div class=\"exercise\"><b>\n",
        "\n",
        "##### **👉 Exercise (10 min)**\n",
        "\n",
        "</b></div>\n",
        "\n",
        "* Pick one variable to use as a predictor for simple linear regression.  Use the markdown cell below and discuss your reasons.  \n",
        "* Justify your choice with some visualizations.  _💡 Tip: why not try a `sns.pairplot` to explore the relationship between variables?_\n",
        "* Is there a second variable you'd like to use? For example, we're not doing multiple linear regression here, but if we were, is there another variable you'd like to include if we were using two predictors?\n",
        "</div>"
      ]
    },
    {
      "cell_type": "markdown",
      "metadata": {},
      "source": [
        "Answer: Write your text answers here"
      ]
    },
    {
      "cell_type": "code",
      "execution_count": null,
      "metadata": {
        "id": "q52BsXfbwXOh"
      },
      "outputs": [],
      "source": [
        "# Your code here"
      ]
    },
    {
      "cell_type": "markdown",
      "metadata": {
        "id": "22X_ZHMtwXOh"
      },
      "source": [
        "<div class=\"alert alert-info\">\n",
        "<div class=\"exercise\"><b>\n",
        "\n",
        "##### **👉 Exercise**\n",
        "\n",
        "</b></div>\n",
        "\n",
        "* Use `sklearn` to fit the training data using simple linear regression.\n",
        "* Use the model to make mpg predictions on the test set.  \n",
        "* Plot the data and the prediction.  \n",
        "* Print out the mean squared error for the training set and the test set and compare.\n",
        "\n",
        "**Tips:**\n",
        "* Use the following to perform the analysis:\n",
        "```python\n",
        "from sklearn.linear_model import LinearRegression\n",
        "from sklearn.model_selection import train_test_split\n",
        "from sklearn.metrics import mean_squared_error\n",
        "```\n",
        "\n",
        "</div>"
      ]
    },
    {
      "cell_type": "code",
      "execution_count": null,
      "metadata": {
        "id": "p77FXxPFwXOh"
      },
      "outputs": [],
      "source": [
        "from sklearn.linear_model import LinearRegression\n",
        "from sklearn.model_selection import train_test_split\n",
        "from sklearn.metrics import mean_squared_error\n",
        "\n",
        "dfcars = pd.read_csv(\"mtcars.csv\")\n",
        "\n",
        "dfcars.head()"
      ]
    },
    {
      "cell_type": "code",
      "execution_count": null,
      "metadata": {
        "id": "NIRjiV87wXOi"
      },
      "outputs": [],
      "source": [
        "# TODO: split traindf, testdf\n",
        "\n",
        "# TODO: compute y_train and x_train"
      ]
    },
    {
      "cell_type": "code",
      "execution_count": null,
      "metadata": {
        "id": "ifY_aR6kwXOi"
      },
      "outputs": [],
      "source": [
        "# TODO: compute y_test and x_test\n",
        "\n",
        "# TODO: create linear model\n",
        "\n",
        "# TODO: fit linear model\n",
        "\n",
        "# TODO: compute predicted_y\n",
        "\n",
        "# TODO: compute and r2 score on test data"
      ]
    },
    {
      "cell_type": "code",
      "execution_count": null,
      "metadata": {
        "id": "HCJd11uSwXOi"
      },
      "outputs": [],
      "source": [
        "# TODO r2 score on train data, mse on test data, mse on train data and final coefficients"
      ]
    },
    {
      "cell_type": "code",
      "execution_count": null,
      "metadata": {
        "id": "9i4zyF44wXOj"
      },
      "outputs": [],
      "source": [
        "# TODO: plots"
      ]
    },
    {
      "cell_type": "markdown",
      "metadata": {
        "id": "EHJsvxC2wXOj"
      },
      "source": [
        "## (Bonus) $k$-nearest neighbors"
      ]
    },
    {
      "cell_type": "markdown",
      "metadata": {
        "id": "1ut3EIN3wXOj"
      },
      "source": [
        "Great, so we did a simple linear regression on the car data.\n",
        "\n",
        "Now that you're familiar with `sklearn`, you're ready to do a KNN regression.  Let's use $5$ nearest neighbors.\n",
        "\n",
        "\n",
        "**Note**: this section uses pure `matplotlib` to do plots, without `seaborn` functions."
      ]
    },
    {
      "cell_type": "code",
      "execution_count": null,
      "metadata": {
        "id": "Istzkyt_wXOj"
      },
      "outputs": [],
      "source": [
        "from sklearn.neighbors import KNeighborsRegressor\n",
        "knnreg = KNeighborsRegressor(n_neighbors=5)"
      ]
    },
    {
      "cell_type": "code",
      "execution_count": null,
      "metadata": {
        "id": "LD7cp7H4wXOj"
      },
      "outputs": [],
      "source": [
        "knnreg.fit(X_train, y_train)\n",
        "r2 = knnreg.score(X_test, y_test)\n",
        "r2"
      ]
    },
    {
      "cell_type": "markdown",
      "metadata": {
        "id": "FF9vngcEwXOj"
      },
      "source": [
        "<div class=\"alert alert-info\">\n",
        "<div class=\"exercise\"><b>\n",
        "\n",
        "##### **👉 Exercise**\n",
        "\n",
        "</b></div>\n",
        "\n",
        "What is the $R^{2}$ score on the training set?\n",
        "\n",
        "</div>"
      ]
    },
    {
      "cell_type": "code",
      "execution_count": null,
      "metadata": {
        "id": "5HvVes2VwXOk"
      },
      "outputs": [],
      "source": [
        "# TODO: Your code here"
      ]
    },
    {
      "cell_type": "markdown",
      "metadata": {
        "id": "31x_Vi_TwXOk"
      },
      "source": [
        "Lets vary the number of neighbors and see what we get."
      ]
    },
    {
      "cell_type": "code",
      "execution_count": null,
      "metadata": {
        "id": "kTJ45nNswXOk"
      },
      "outputs": [],
      "source": [
        "regdict = {}\n",
        "# Do a bunch of KNN regressions\n",
        "for k in [1, 2, 4, 6, 8, 10, 15]:\n",
        "    knnreg = KNeighborsRegressor(n_neighbors=k)\n",
        "    knnreg.fit(X_train, y_train)\n",
        "    regdict[k] = knnreg # Store the regressors in a dictionary"
      ]
    },
    {
      "cell_type": "code",
      "execution_count": null,
      "metadata": {
        "id": "M0fP4fJQwXOk"
      },
      "outputs": [],
      "source": [
        "# Now let's plot it all\n",
        "fig, ax = plt.subplots(1,1, figsize=(10,6))\n",
        "\n",
        "ax.plot(dfcars.wt, dfcars.mpg, 'o', label=\"data\")\n",
        "\n",
        "xgrid = np.linspace(np.min(dfcars.wt), np.max(dfcars.wt), 100)\n",
        "for k in [1, 2, 6, 10, 15]:\n",
        "    predictions = regdict[k].predict(xgrid.reshape(100,1))\n",
        "    if k in [1, 6, 15]:\n",
        "        ax.plot(xgrid, predictions, label=\"{}-NN\".format(k))\n",
        "\n",
        "ax.legend();"
      ]
    },
    {
      "cell_type": "markdown",
      "metadata": {
        "id": "hNX9xZwewXOk"
      },
      "source": [
        "Notice how the $1$-NN goes through every point on the training set but utterly fails elsewhere. Lets look at the scores on the training set."
      ]
    },
    {
      "cell_type": "code",
      "execution_count": null,
      "metadata": {
        "id": "vfRQT9NTwXOk"
      },
      "outputs": [],
      "source": [
        "ks = range(1, 15) # Grid of k's\n",
        "scores_train = [] # R2 scores\n",
        "for k in ks:\n",
        "    knnreg = KNeighborsRegressor(n_neighbors=k) # Create KNN model\n",
        "    knnreg.fit(X_train, y_train) # Fit the model to training data\n",
        "    score_train = knnreg.score(X_train, y_train) # Calculate R^2 score\n",
        "    scores_train.append(score_train)\n",
        "\n",
        "# Plot\n",
        "fig, ax = plt.subplots(1,1, figsize=(12,8))\n",
        "ax.plot(ks, scores_train,'o-')\n",
        "ax.set_xlabel(r'$k$')\n",
        "ax.set_ylabel(r'$R^{2}$')"
      ]
    },
    {
      "cell_type": "markdown",
      "metadata": {
        "id": "09l37_iawXOl"
      },
      "source": [
        "<div class=\"alert\">\n",
        "\n",
        "#### ❓ Why do we get a perfect $R^2$ at k=1?\n",
        "\n",
        "</div>"
      ]
    },
    {
      "cell_type": "markdown",
      "metadata": {
        "id": "WRG0jAcZwXOl"
      },
      "source": [
        "<div class=\"alert alert-info\">\n",
        "<div class=\"exercise\"><b>\n",
        "\n",
        "##### **👉 Exercise**\n",
        "\n",
        "</b></div>\n",
        "\n",
        "* Make the same plot as above on the *test* set.\n",
        "* What is the best $k$?\n",
        "\n",
        "</div>"
      ]
    },
    {
      "cell_type": "code",
      "execution_count": null,
      "metadata": {
        "id": "xdyY-Tp_wXOl"
      },
      "outputs": [],
      "source": [
        "# TODO: Your code here"
      ]
    }
  ],
  "metadata": {
    "anaconda-cloud": {},
    "colab": {
      "name": "lab1: Intro to ML SLR.ipynb",
      "provenance": []
    },
    "kernelspec": {
      "display_name": "Python 3 (ipykernel)",
      "language": "python",
      "name": "python3"
    },
    "language_info": {
      "codemirror_mode": {
        "name": "ipython",
        "version": 3
      },
      "file_extension": ".py",
      "mimetype": "text/x-python",
      "name": "python",
      "nbconvert_exporter": "python",
      "pygments_lexer": "ipython3",
      "version": "3.11.0"
    }
  },
  "nbformat": 4,
  "nbformat_minor": 4
}
